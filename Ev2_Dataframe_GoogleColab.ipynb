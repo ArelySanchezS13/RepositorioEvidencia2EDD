{
  "nbformat": 4,
  "nbformat_minor": 0,
  "metadata": {
    "colab": {
      "provenance": []
    },
    "kernelspec": {
      "name": "python3",
      "display_name": "Python 3"
    },
    "language_info": {
      "name": "python"
    }
  },
  "cells": [
    {
      "cell_type": "code",
      "execution_count": 1,
      "metadata": {
        "id": "9gD8Oih-6aKl"
      },
      "outputs": [],
      "source": [
        "import pandas as pd\n",
        "import io"
      ]
    },
    {
      "cell_type": "code",
      "source": [
        "from google.colab import files"
      ],
      "metadata": {
        "id": "Uq3dK9vu6cE_"
      },
      "execution_count": 2,
      "outputs": []
    },
    {
      "cell_type": "code",
      "source": [
        "uploaded = files.upload()"
      ],
      "metadata": {
        "colab": {
          "base_uri": "https://localhost:8080/",
          "height": 74
        },
        "id": "NrhWQuihE3fd",
        "outputId": "18dc66f3-5f66-4558-8002-8a4215a4d577"
      },
      "execution_count": 3,
      "outputs": [
        {
          "output_type": "display_data",
          "data": {
            "text/plain": [
              "<IPython.core.display.HTML object>"
            ],
            "text/html": [
              "\n",
              "     <input type=\"file\" id=\"files-4e66380a-13ad-4951-a0c1-81489ff5b4d5\" name=\"files[]\" multiple disabled\n",
              "        style=\"border:none\" />\n",
              "     <output id=\"result-4e66380a-13ad-4951-a0c1-81489ff5b4d5\">\n",
              "      Upload widget is only available when the cell has been executed in the\n",
              "      current browser session. Please rerun this cell to enable.\n",
              "      </output>\n",
              "      <script>// Copyright 2017 Google LLC\n",
              "//\n",
              "// Licensed under the Apache License, Version 2.0 (the \"License\");\n",
              "// you may not use this file except in compliance with the License.\n",
              "// You may obtain a copy of the License at\n",
              "//\n",
              "//      http://www.apache.org/licenses/LICENSE-2.0\n",
              "//\n",
              "// Unless required by applicable law or agreed to in writing, software\n",
              "// distributed under the License is distributed on an \"AS IS\" BASIS,\n",
              "// WITHOUT WARRANTIES OR CONDITIONS OF ANY KIND, either express or implied.\n",
              "// See the License for the specific language governing permissions and\n",
              "// limitations under the License.\n",
              "\n",
              "/**\n",
              " * @fileoverview Helpers for google.colab Python module.\n",
              " */\n",
              "(function(scope) {\n",
              "function span(text, styleAttributes = {}) {\n",
              "  const element = document.createElement('span');\n",
              "  element.textContent = text;\n",
              "  for (const key of Object.keys(styleAttributes)) {\n",
              "    element.style[key] = styleAttributes[key];\n",
              "  }\n",
              "  return element;\n",
              "}\n",
              "\n",
              "// Max number of bytes which will be uploaded at a time.\n",
              "const MAX_PAYLOAD_SIZE = 100 * 1024;\n",
              "\n",
              "function _uploadFiles(inputId, outputId) {\n",
              "  const steps = uploadFilesStep(inputId, outputId);\n",
              "  const outputElement = document.getElementById(outputId);\n",
              "  // Cache steps on the outputElement to make it available for the next call\n",
              "  // to uploadFilesContinue from Python.\n",
              "  outputElement.steps = steps;\n",
              "\n",
              "  return _uploadFilesContinue(outputId);\n",
              "}\n",
              "\n",
              "// This is roughly an async generator (not supported in the browser yet),\n",
              "// where there are multiple asynchronous steps and the Python side is going\n",
              "// to poll for completion of each step.\n",
              "// This uses a Promise to block the python side on completion of each step,\n",
              "// then passes the result of the previous step as the input to the next step.\n",
              "function _uploadFilesContinue(outputId) {\n",
              "  const outputElement = document.getElementById(outputId);\n",
              "  const steps = outputElement.steps;\n",
              "\n",
              "  const next = steps.next(outputElement.lastPromiseValue);\n",
              "  return Promise.resolve(next.value.promise).then((value) => {\n",
              "    // Cache the last promise value to make it available to the next\n",
              "    // step of the generator.\n",
              "    outputElement.lastPromiseValue = value;\n",
              "    return next.value.response;\n",
              "  });\n",
              "}\n",
              "\n",
              "/**\n",
              " * Generator function which is called between each async step of the upload\n",
              " * process.\n",
              " * @param {string} inputId Element ID of the input file picker element.\n",
              " * @param {string} outputId Element ID of the output display.\n",
              " * @return {!Iterable<!Object>} Iterable of next steps.\n",
              " */\n",
              "function* uploadFilesStep(inputId, outputId) {\n",
              "  const inputElement = document.getElementById(inputId);\n",
              "  inputElement.disabled = false;\n",
              "\n",
              "  const outputElement = document.getElementById(outputId);\n",
              "  outputElement.innerHTML = '';\n",
              "\n",
              "  const pickedPromise = new Promise((resolve) => {\n",
              "    inputElement.addEventListener('change', (e) => {\n",
              "      resolve(e.target.files);\n",
              "    });\n",
              "  });\n",
              "\n",
              "  const cancel = document.createElement('button');\n",
              "  inputElement.parentElement.appendChild(cancel);\n",
              "  cancel.textContent = 'Cancel upload';\n",
              "  const cancelPromise = new Promise((resolve) => {\n",
              "    cancel.onclick = () => {\n",
              "      resolve(null);\n",
              "    };\n",
              "  });\n",
              "\n",
              "  // Wait for the user to pick the files.\n",
              "  const files = yield {\n",
              "    promise: Promise.race([pickedPromise, cancelPromise]),\n",
              "    response: {\n",
              "      action: 'starting',\n",
              "    }\n",
              "  };\n",
              "\n",
              "  cancel.remove();\n",
              "\n",
              "  // Disable the input element since further picks are not allowed.\n",
              "  inputElement.disabled = true;\n",
              "\n",
              "  if (!files) {\n",
              "    return {\n",
              "      response: {\n",
              "        action: 'complete',\n",
              "      }\n",
              "    };\n",
              "  }\n",
              "\n",
              "  for (const file of files) {\n",
              "    const li = document.createElement('li');\n",
              "    li.append(span(file.name, {fontWeight: 'bold'}));\n",
              "    li.append(span(\n",
              "        `(${file.type || 'n/a'}) - ${file.size} bytes, ` +\n",
              "        `last modified: ${\n",
              "            file.lastModifiedDate ? file.lastModifiedDate.toLocaleDateString() :\n",
              "                                    'n/a'} - `));\n",
              "    const percent = span('0% done');\n",
              "    li.appendChild(percent);\n",
              "\n",
              "    outputElement.appendChild(li);\n",
              "\n",
              "    const fileDataPromise = new Promise((resolve) => {\n",
              "      const reader = new FileReader();\n",
              "      reader.onload = (e) => {\n",
              "        resolve(e.target.result);\n",
              "      };\n",
              "      reader.readAsArrayBuffer(file);\n",
              "    });\n",
              "    // Wait for the data to be ready.\n",
              "    let fileData = yield {\n",
              "      promise: fileDataPromise,\n",
              "      response: {\n",
              "        action: 'continue',\n",
              "      }\n",
              "    };\n",
              "\n",
              "    // Use a chunked sending to avoid message size limits. See b/62115660.\n",
              "    let position = 0;\n",
              "    do {\n",
              "      const length = Math.min(fileData.byteLength - position, MAX_PAYLOAD_SIZE);\n",
              "      const chunk = new Uint8Array(fileData, position, length);\n",
              "      position += length;\n",
              "\n",
              "      const base64 = btoa(String.fromCharCode.apply(null, chunk));\n",
              "      yield {\n",
              "        response: {\n",
              "          action: 'append',\n",
              "          file: file.name,\n",
              "          data: base64,\n",
              "        },\n",
              "      };\n",
              "\n",
              "      let percentDone = fileData.byteLength === 0 ?\n",
              "          100 :\n",
              "          Math.round((position / fileData.byteLength) * 100);\n",
              "      percent.textContent = `${percentDone}% done`;\n",
              "\n",
              "    } while (position < fileData.byteLength);\n",
              "  }\n",
              "\n",
              "  // All done.\n",
              "  yield {\n",
              "    response: {\n",
              "      action: 'complete',\n",
              "    }\n",
              "  };\n",
              "}\n",
              "\n",
              "scope.google = scope.google || {};\n",
              "scope.google.colab = scope.google.colab || {};\n",
              "scope.google.colab._files = {\n",
              "  _uploadFiles,\n",
              "  _uploadFilesContinue,\n",
              "};\n",
              "})(self);\n",
              "</script> "
            ]
          },
          "metadata": {}
        },
        {
          "output_type": "stream",
          "name": "stdout",
          "text": [
            "Saving evidencia2_lista.xlsx to evidencia2_lista.xlsx\n"
          ]
        }
      ]
    },
    {
      "cell_type": "code",
      "source": [
        "dataframe = pd.read_excel(io.BytesIO(uploaded['evidencia2_lista.xlsx']))"
      ],
      "metadata": {
        "id": "6fJGQcN_FBuV"
      },
      "execution_count": 4,
      "outputs": []
    },
    {
      "cell_type": "code",
      "source": [
        "dataframe.head()"
      ],
      "metadata": {
        "colab": {
          "base_uri": "https://localhost:8080/",
          "height": 206
        },
        "id": "h6NMr77dFRYY",
        "outputId": "b18415aa-e8c3-40a5-a048-a5d8fb2f557c"
      },
      "execution_count": 5,
      "outputs": [
        {
          "output_type": "execute_result",
          "data": {
            "text/plain": [
              "   Unnamed: 0  CANTIDAD                                        DESCRIPCION  \\\n",
              "0           0         3       Bolígrafo Bic Cristal Punto Ultrafino Negro    \n",
              "1           1         1  Cuaderno College Norma Color Cosido Cuadro Chi...   \n",
              "2           2         1                 Pantalla TCL Smart 32\" HD Smart TV   \n",
              "3           3         1                  Camara Web Acteck 720P WM20 Negro   \n",
              "4           4         1  Mouse Gaming Inalámbrico Hiperion Balam Rush E...   \n",
              "\n",
              "   PRECIO UNITARIO  IMPORTE  DESCUENTO  TOTAL CON DECUENTO FECHA DE ENTRADA  \\\n",
              "0              7.3     21.9        0.3               15.33       2023-01-03   \n",
              "1             76.9     76.9        0.3               53.83       2023-03-02   \n",
              "2           4799.9   4799.9        0.0             4799.90       2023-03-15   \n",
              "3            319.9    319.9        0.5              159.95       2023-04-07   \n",
              "4            749.0    749.0        0.0              749.00       2023-04-11   \n",
              "\n",
              "          DEPARTAMENTO      BANCO  NUMERO DE PRODUCTO  \n",
              "0  Escolar y Papelería  SANTANDER               25018  \n",
              "1  Escolar y Papelería  SANTANDER               24799  \n",
              "2          Electrónica  SANTANDER               24734  \n",
              "3          Electrónica    BANORTE               24730  \n",
              "4          Electrónica    BANORTE               24767  "
            ],
            "text/html": [
              "\n",
              "  <div id=\"df-7e7bf69b-453b-4c2e-8784-9abd428bfd30\" class=\"colab-df-container\">\n",
              "    <div>\n",
              "<style scoped>\n",
              "    .dataframe tbody tr th:only-of-type {\n",
              "        vertical-align: middle;\n",
              "    }\n",
              "\n",
              "    .dataframe tbody tr th {\n",
              "        vertical-align: top;\n",
              "    }\n",
              "\n",
              "    .dataframe thead th {\n",
              "        text-align: right;\n",
              "    }\n",
              "</style>\n",
              "<table border=\"1\" class=\"dataframe\">\n",
              "  <thead>\n",
              "    <tr style=\"text-align: right;\">\n",
              "      <th></th>\n",
              "      <th>Unnamed: 0</th>\n",
              "      <th>CANTIDAD</th>\n",
              "      <th>DESCRIPCION</th>\n",
              "      <th>PRECIO UNITARIO</th>\n",
              "      <th>IMPORTE</th>\n",
              "      <th>DESCUENTO</th>\n",
              "      <th>TOTAL CON DECUENTO</th>\n",
              "      <th>FECHA DE ENTRADA</th>\n",
              "      <th>DEPARTAMENTO</th>\n",
              "      <th>BANCO</th>\n",
              "      <th>NUMERO DE PRODUCTO</th>\n",
              "    </tr>\n",
              "  </thead>\n",
              "  <tbody>\n",
              "    <tr>\n",
              "      <th>0</th>\n",
              "      <td>0</td>\n",
              "      <td>3</td>\n",
              "      <td>Bolígrafo Bic Cristal Punto Ultrafino Negro</td>\n",
              "      <td>7.3</td>\n",
              "      <td>21.9</td>\n",
              "      <td>0.3</td>\n",
              "      <td>15.33</td>\n",
              "      <td>2023-01-03</td>\n",
              "      <td>Escolar y Papelería</td>\n",
              "      <td>SANTANDER</td>\n",
              "      <td>25018</td>\n",
              "    </tr>\n",
              "    <tr>\n",
              "      <th>1</th>\n",
              "      <td>1</td>\n",
              "      <td>1</td>\n",
              "      <td>Cuaderno College Norma Color Cosido Cuadro Chi...</td>\n",
              "      <td>76.9</td>\n",
              "      <td>76.9</td>\n",
              "      <td>0.3</td>\n",
              "      <td>53.83</td>\n",
              "      <td>2023-03-02</td>\n",
              "      <td>Escolar y Papelería</td>\n",
              "      <td>SANTANDER</td>\n",
              "      <td>24799</td>\n",
              "    </tr>\n",
              "    <tr>\n",
              "      <th>2</th>\n",
              "      <td>2</td>\n",
              "      <td>1</td>\n",
              "      <td>Pantalla TCL Smart 32\" HD Smart TV</td>\n",
              "      <td>4799.9</td>\n",
              "      <td>4799.9</td>\n",
              "      <td>0.0</td>\n",
              "      <td>4799.90</td>\n",
              "      <td>2023-03-15</td>\n",
              "      <td>Electrónica</td>\n",
              "      <td>SANTANDER</td>\n",
              "      <td>24734</td>\n",
              "    </tr>\n",
              "    <tr>\n",
              "      <th>3</th>\n",
              "      <td>3</td>\n",
              "      <td>1</td>\n",
              "      <td>Camara Web Acteck 720P WM20 Negro</td>\n",
              "      <td>319.9</td>\n",
              "      <td>319.9</td>\n",
              "      <td>0.5</td>\n",
              "      <td>159.95</td>\n",
              "      <td>2023-04-07</td>\n",
              "      <td>Electrónica</td>\n",
              "      <td>BANORTE</td>\n",
              "      <td>24730</td>\n",
              "    </tr>\n",
              "    <tr>\n",
              "      <th>4</th>\n",
              "      <td>4</td>\n",
              "      <td>1</td>\n",
              "      <td>Mouse Gaming Inalámbrico Hiperion Balam Rush E...</td>\n",
              "      <td>749.0</td>\n",
              "      <td>749.0</td>\n",
              "      <td>0.0</td>\n",
              "      <td>749.00</td>\n",
              "      <td>2023-04-11</td>\n",
              "      <td>Electrónica</td>\n",
              "      <td>BANORTE</td>\n",
              "      <td>24767</td>\n",
              "    </tr>\n",
              "  </tbody>\n",
              "</table>\n",
              "</div>\n",
              "    <div class=\"colab-df-buttons\">\n",
              "\n",
              "  <div class=\"colab-df-container\">\n",
              "    <button class=\"colab-df-convert\" onclick=\"convertToInteractive('df-7e7bf69b-453b-4c2e-8784-9abd428bfd30')\"\n",
              "            title=\"Convert this dataframe to an interactive table.\"\n",
              "            style=\"display:none;\">\n",
              "\n",
              "  <svg xmlns=\"http://www.w3.org/2000/svg\" height=\"24px\" viewBox=\"0 -960 960 960\">\n",
              "    <path d=\"M120-120v-720h720v720H120Zm60-500h600v-160H180v160Zm220 220h160v-160H400v160Zm0 220h160v-160H400v160ZM180-400h160v-160H180v160Zm440 0h160v-160H620v160ZM180-180h160v-160H180v160Zm440 0h160v-160H620v160Z\"/>\n",
              "  </svg>\n",
              "    </button>\n",
              "\n",
              "  <style>\n",
              "    .colab-df-container {\n",
              "      display:flex;\n",
              "      gap: 12px;\n",
              "    }\n",
              "\n",
              "    .colab-df-convert {\n",
              "      background-color: #E8F0FE;\n",
              "      border: none;\n",
              "      border-radius: 50%;\n",
              "      cursor: pointer;\n",
              "      display: none;\n",
              "      fill: #1967D2;\n",
              "      height: 32px;\n",
              "      padding: 0 0 0 0;\n",
              "      width: 32px;\n",
              "    }\n",
              "\n",
              "    .colab-df-convert:hover {\n",
              "      background-color: #E2EBFA;\n",
              "      box-shadow: 0px 1px 2px rgba(60, 64, 67, 0.3), 0px 1px 3px 1px rgba(60, 64, 67, 0.15);\n",
              "      fill: #174EA6;\n",
              "    }\n",
              "\n",
              "    .colab-df-buttons div {\n",
              "      margin-bottom: 4px;\n",
              "    }\n",
              "\n",
              "    [theme=dark] .colab-df-convert {\n",
              "      background-color: #3B4455;\n",
              "      fill: #D2E3FC;\n",
              "    }\n",
              "\n",
              "    [theme=dark] .colab-df-convert:hover {\n",
              "      background-color: #434B5C;\n",
              "      box-shadow: 0px 1px 3px 1px rgba(0, 0, 0, 0.15);\n",
              "      filter: drop-shadow(0px 1px 2px rgba(0, 0, 0, 0.3));\n",
              "      fill: #FFFFFF;\n",
              "    }\n",
              "  </style>\n",
              "\n",
              "    <script>\n",
              "      const buttonEl =\n",
              "        document.querySelector('#df-7e7bf69b-453b-4c2e-8784-9abd428bfd30 button.colab-df-convert');\n",
              "      buttonEl.style.display =\n",
              "        google.colab.kernel.accessAllowed ? 'block' : 'none';\n",
              "\n",
              "      async function convertToInteractive(key) {\n",
              "        const element = document.querySelector('#df-7e7bf69b-453b-4c2e-8784-9abd428bfd30');\n",
              "        const dataTable =\n",
              "          await google.colab.kernel.invokeFunction('convertToInteractive',\n",
              "                                                    [key], {});\n",
              "        if (!dataTable) return;\n",
              "\n",
              "        const docLinkHtml = 'Like what you see? Visit the ' +\n",
              "          '<a target=\"_blank\" href=https://colab.research.google.com/notebooks/data_table.ipynb>data table notebook</a>'\n",
              "          + ' to learn more about interactive tables.';\n",
              "        element.innerHTML = '';\n",
              "        dataTable['output_type'] = 'display_data';\n",
              "        await google.colab.output.renderOutput(dataTable, element);\n",
              "        const docLink = document.createElement('div');\n",
              "        docLink.innerHTML = docLinkHtml;\n",
              "        element.appendChild(docLink);\n",
              "      }\n",
              "    </script>\n",
              "  </div>\n",
              "\n",
              "\n",
              "<div id=\"df-bf570a3d-76f5-444e-87cb-8ebe9204dde6\">\n",
              "  <button class=\"colab-df-quickchart\" onclick=\"quickchart('df-bf570a3d-76f5-444e-87cb-8ebe9204dde6')\"\n",
              "            title=\"Suggest charts.\"\n",
              "            style=\"display:none;\">\n",
              "\n",
              "<svg xmlns=\"http://www.w3.org/2000/svg\" height=\"24px\"viewBox=\"0 0 24 24\"\n",
              "     width=\"24px\">\n",
              "    <g>\n",
              "        <path d=\"M19 3H5c-1.1 0-2 .9-2 2v14c0 1.1.9 2 2 2h14c1.1 0 2-.9 2-2V5c0-1.1-.9-2-2-2zM9 17H7v-7h2v7zm4 0h-2V7h2v10zm4 0h-2v-4h2v4z\"/>\n",
              "    </g>\n",
              "</svg>\n",
              "  </button>\n",
              "\n",
              "<style>\n",
              "  .colab-df-quickchart {\n",
              "      --bg-color: #E8F0FE;\n",
              "      --fill-color: #1967D2;\n",
              "      --hover-bg-color: #E2EBFA;\n",
              "      --hover-fill-color: #174EA6;\n",
              "      --disabled-fill-color: #AAA;\n",
              "      --disabled-bg-color: #DDD;\n",
              "  }\n",
              "\n",
              "  [theme=dark] .colab-df-quickchart {\n",
              "      --bg-color: #3B4455;\n",
              "      --fill-color: #D2E3FC;\n",
              "      --hover-bg-color: #434B5C;\n",
              "      --hover-fill-color: #FFFFFF;\n",
              "      --disabled-bg-color: #3B4455;\n",
              "      --disabled-fill-color: #666;\n",
              "  }\n",
              "\n",
              "  .colab-df-quickchart {\n",
              "    background-color: var(--bg-color);\n",
              "    border: none;\n",
              "    border-radius: 50%;\n",
              "    cursor: pointer;\n",
              "    display: none;\n",
              "    fill: var(--fill-color);\n",
              "    height: 32px;\n",
              "    padding: 0;\n",
              "    width: 32px;\n",
              "  }\n",
              "\n",
              "  .colab-df-quickchart:hover {\n",
              "    background-color: var(--hover-bg-color);\n",
              "    box-shadow: 0 1px 2px rgba(60, 64, 67, 0.3), 0 1px 3px 1px rgba(60, 64, 67, 0.15);\n",
              "    fill: var(--button-hover-fill-color);\n",
              "  }\n",
              "\n",
              "  .colab-df-quickchart-complete:disabled,\n",
              "  .colab-df-quickchart-complete:disabled:hover {\n",
              "    background-color: var(--disabled-bg-color);\n",
              "    fill: var(--disabled-fill-color);\n",
              "    box-shadow: none;\n",
              "  }\n",
              "\n",
              "  .colab-df-spinner {\n",
              "    border: 2px solid var(--fill-color);\n",
              "    border-color: transparent;\n",
              "    border-bottom-color: var(--fill-color);\n",
              "    animation:\n",
              "      spin 1s steps(1) infinite;\n",
              "  }\n",
              "\n",
              "  @keyframes spin {\n",
              "    0% {\n",
              "      border-color: transparent;\n",
              "      border-bottom-color: var(--fill-color);\n",
              "      border-left-color: var(--fill-color);\n",
              "    }\n",
              "    20% {\n",
              "      border-color: transparent;\n",
              "      border-left-color: var(--fill-color);\n",
              "      border-top-color: var(--fill-color);\n",
              "    }\n",
              "    30% {\n",
              "      border-color: transparent;\n",
              "      border-left-color: var(--fill-color);\n",
              "      border-top-color: var(--fill-color);\n",
              "      border-right-color: var(--fill-color);\n",
              "    }\n",
              "    40% {\n",
              "      border-color: transparent;\n",
              "      border-right-color: var(--fill-color);\n",
              "      border-top-color: var(--fill-color);\n",
              "    }\n",
              "    60% {\n",
              "      border-color: transparent;\n",
              "      border-right-color: var(--fill-color);\n",
              "    }\n",
              "    80% {\n",
              "      border-color: transparent;\n",
              "      border-right-color: var(--fill-color);\n",
              "      border-bottom-color: var(--fill-color);\n",
              "    }\n",
              "    90% {\n",
              "      border-color: transparent;\n",
              "      border-bottom-color: var(--fill-color);\n",
              "    }\n",
              "  }\n",
              "</style>\n",
              "\n",
              "  <script>\n",
              "    async function quickchart(key) {\n",
              "      const quickchartButtonEl =\n",
              "        document.querySelector('#' + key + ' button');\n",
              "      quickchartButtonEl.disabled = true;  // To prevent multiple clicks.\n",
              "      quickchartButtonEl.classList.add('colab-df-spinner');\n",
              "      try {\n",
              "        const charts = await google.colab.kernel.invokeFunction(\n",
              "            'suggestCharts', [key], {});\n",
              "      } catch (error) {\n",
              "        console.error('Error during call to suggestCharts:', error);\n",
              "      }\n",
              "      quickchartButtonEl.classList.remove('colab-df-spinner');\n",
              "      quickchartButtonEl.classList.add('colab-df-quickchart-complete');\n",
              "    }\n",
              "    (() => {\n",
              "      let quickchartButtonEl =\n",
              "        document.querySelector('#df-bf570a3d-76f5-444e-87cb-8ebe9204dde6 button');\n",
              "      quickchartButtonEl.style.display =\n",
              "        google.colab.kernel.accessAllowed ? 'block' : 'none';\n",
              "    })();\n",
              "  </script>\n",
              "</div>\n",
              "    </div>\n",
              "  </div>\n"
            ]
          },
          "metadata": {},
          "execution_count": 5
        }
      ]
    },
    {
      "cell_type": "markdown",
      "source": [
        "Series en pandas - 1. Crear serie en pandas"
      ],
      "metadata": {
        "id": "sTAM9vlC0iQ0"
      }
    },
    {
      "cell_type": "code",
      "source": [
        "NombreProducto = ['Bolígrafo Bic Cristal Punto Ultrafino Negro','Cuaderno College Norma Color Cosido Cuadro Chico 100 Hojas','Pantalla TCL Smart 32\" HD Smart TV',\n",
        "          'Camara Web Acteck 720P WM20 Negro','Mouse Gaming Inalámbrico Hiperion Balam Rush Espectrum','Tinte para Cabello Tono Vainilla 100% Cobertura de Canas Nutrisse 157 ml',\n",
        "          'Shampoo Fructis Brillo Vitaminado 650 ml','Desodorante en Roll On Bí-O Clinical Hialurónico 50 ml','Tabletas Alliviax Naproxeno Sódico 550 mg',\n",
        "          'Estuche de Chocolates Ferrero Rocher ','Chocolates Bon o Bon']\n",
        "PrecioUnitario = [7.30,76.90,4799.90,319.90,749.00,73.90,79.90,39.90,9.89,8.75,5.00]\n",
        "productos = pd.Series(PrecioUnitario,NombreProducto)\n",
        "productos"
      ],
      "metadata": {
        "id": "PSPOoTZyFbSz",
        "colab": {
          "base_uri": "https://localhost:8080/"
        },
        "outputId": "3cb20543-34b3-4102-dc5d-a7dc3502add7"
      },
      "execution_count": 6,
      "outputs": [
        {
          "output_type": "execute_result",
          "data": {
            "text/plain": [
              "Bolígrafo Bic Cristal Punto Ultrafino Negro                                    7.30\n",
              "Cuaderno College Norma Color Cosido Cuadro Chico 100 Hojas                    76.90\n",
              "Pantalla TCL Smart 32\" HD Smart TV                                          4799.90\n",
              "Camara Web Acteck 720P WM20 Negro                                            319.90\n",
              "Mouse Gaming Inalámbrico Hiperion Balam Rush Espectrum                       749.00\n",
              "Tinte para Cabello Tono Vainilla 100% Cobertura de Canas Nutrisse 157 ml      73.90\n",
              "Shampoo Fructis Brillo Vitaminado 650 ml                                      79.90\n",
              "Desodorante en Roll On Bí-O Clinical Hialurónico 50 ml                        39.90\n",
              "Tabletas Alliviax Naproxeno Sódico 550 mg                                      9.89\n",
              "Estuche de Chocolates Ferrero Rocher                                           8.75\n",
              "Chocolates Bon o Bon                                                           5.00\n",
              "dtype: float64"
            ]
          },
          "metadata": {},
          "execution_count": 6
        }
      ]
    },
    {
      "cell_type": "markdown",
      "source": [
        "Series en pandas - 2. Mostrar los tipos de datos, cuántos datos almacena la serie, los indices y valores"
      ],
      "metadata": {
        "id": "WYdNwKk40naV"
      }
    },
    {
      "cell_type": "code",
      "source": [
        "productos.dtype, productos.size, productos.index, productos.values"
      ],
      "metadata": {
        "colab": {
          "base_uri": "https://localhost:8080/"
        },
        "id": "ZrT6BegTy6Aa",
        "outputId": "8c2c6b19-e4a4-48be-97cc-7ef8bd4b635f"
      },
      "execution_count": 7,
      "outputs": [
        {
          "output_type": "execute_result",
          "data": {
            "text/plain": [
              "(dtype('float64'),\n",
              " 11,\n",
              " Index(['Bolígrafo Bic Cristal Punto Ultrafino Negro',\n",
              "        'Cuaderno College Norma Color Cosido Cuadro Chico 100 Hojas',\n",
              "        'Pantalla TCL Smart 32\" HD Smart TV',\n",
              "        'Camara Web Acteck 720P WM20 Negro',\n",
              "        'Mouse Gaming Inalámbrico Hiperion Balam Rush Espectrum',\n",
              "        'Tinte para Cabello Tono Vainilla 100% Cobertura de Canas Nutrisse 157 ml',\n",
              "        'Shampoo Fructis Brillo Vitaminado 650 ml',\n",
              "        'Desodorante en Roll On Bí-O Clinical Hialurónico 50 ml',\n",
              "        'Tabletas Alliviax Naproxeno Sódico 550 mg',\n",
              "        'Estuche de Chocolates Ferrero Rocher ', 'Chocolates Bon o Bon'],\n",
              "       dtype='object'),\n",
              " array([   7.3 ,   76.9 , 4799.9 ,  319.9 ,  749.  ,   73.9 ,   79.9 ,\n",
              "          39.9 ,    9.89,    8.75,    5.  ]))"
            ]
          },
          "metadata": {},
          "execution_count": 7
        }
      ]
    },
    {
      "cell_type": "markdown",
      "source": [
        "Series en pandas - 3. Mostrar los elementos en un indice"
      ],
      "metadata": {
        "id": "gAenv8Pi00aW"
      }
    },
    {
      "cell_type": "code",
      "source": [
        "for elemento in productos.index:\n",
        "  print(elemento)"
      ],
      "metadata": {
        "colab": {
          "base_uri": "https://localhost:8080/"
        },
        "id": "8eG-j4T_0G4k",
        "outputId": "03cf6ba0-819e-4c02-cf70-a921f916d58b"
      },
      "execution_count": 8,
      "outputs": [
        {
          "output_type": "stream",
          "name": "stdout",
          "text": [
            "Bolígrafo Bic Cristal Punto Ultrafino Negro\n",
            "Cuaderno College Norma Color Cosido Cuadro Chico 100 Hojas\n",
            "Pantalla TCL Smart 32\" HD Smart TV\n",
            "Camara Web Acteck 720P WM20 Negro\n",
            "Mouse Gaming Inalámbrico Hiperion Balam Rush Espectrum\n",
            "Tinte para Cabello Tono Vainilla 100% Cobertura de Canas Nutrisse 157 ml\n",
            "Shampoo Fructis Brillo Vitaminado 650 ml\n",
            "Desodorante en Roll On Bí-O Clinical Hialurónico 50 ml\n",
            "Tabletas Alliviax Naproxeno Sódico 550 mg\n",
            "Estuche de Chocolates Ferrero Rocher \n",
            "Chocolates Bon o Bon\n"
          ]
        }
      ]
    },
    {
      "cell_type": "markdown",
      "source": [
        "Series en pandas - 4. Especificar un valor de un solo dato"
      ],
      "metadata": {
        "id": "O0-LnbmZ03fk"
      }
    },
    {
      "cell_type": "code",
      "source": [
        "productos['Camara Web Acteck 720P WM20 Negro'], productos['Bolígrafo Bic Cristal Punto Ultrafino Negro'], productos['Shampoo Fructis Brillo Vitaminado 650 ml']"
      ],
      "metadata": {
        "colab": {
          "base_uri": "https://localhost:8080/"
        },
        "id": "0ABp9qFl0f5p",
        "outputId": "d1fbf5b4-2073-48fe-ece9-a707241d48a6"
      },
      "execution_count": 9,
      "outputs": [
        {
          "output_type": "execute_result",
          "data": {
            "text/plain": [
              "(319.9, 7.3, 79.9)"
            ]
          },
          "metadata": {},
          "execution_count": 9
        }
      ]
    },
    {
      "cell_type": "markdown",
      "source": [
        "Series en pandas - 5. Mostrar métodos básicos con los datos de la serie"
      ],
      "metadata": {
        "id": "K3pJwQty1aEV"
      }
    },
    {
      "cell_type": "code",
      "source": [
        "print(productos.astype(\"string\"),\"\\n\")\n",
        "print(productos.value_counts(),\"\\n\")\n",
        "print(productos.sort_values())"
      ],
      "metadata": {
        "colab": {
          "base_uri": "https://localhost:8080/"
        },
        "id": "yUUMARqJ1ZaP",
        "outputId": "362e1ecd-e6f3-4389-e23f-45d82a5f19cf"
      },
      "execution_count": 10,
      "outputs": [
        {
          "output_type": "stream",
          "name": "stdout",
          "text": [
            "Bolígrafo Bic Cristal Punto Ultrafino Negro                                    7.3\n",
            "Cuaderno College Norma Color Cosido Cuadro Chico 100 Hojas                    76.9\n",
            "Pantalla TCL Smart 32\" HD Smart TV                                          4799.9\n",
            "Camara Web Acteck 720P WM20 Negro                                            319.9\n",
            "Mouse Gaming Inalámbrico Hiperion Balam Rush Espectrum                       749.0\n",
            "Tinte para Cabello Tono Vainilla 100% Cobertura de Canas Nutrisse 157 ml      73.9\n",
            "Shampoo Fructis Brillo Vitaminado 650 ml                                      79.9\n",
            "Desodorante en Roll On Bí-O Clinical Hialurónico 50 ml                        39.9\n",
            "Tabletas Alliviax Naproxeno Sódico 550 mg                                     9.89\n",
            "Estuche de Chocolates Ferrero Rocher                                          8.75\n",
            "Chocolates Bon o Bon                                                           5.0\n",
            "dtype: string \n",
            "\n",
            "7.30       1\n",
            "76.90      1\n",
            "4799.90    1\n",
            "319.90     1\n",
            "749.00     1\n",
            "73.90      1\n",
            "79.90      1\n",
            "39.90      1\n",
            "9.89       1\n",
            "8.75       1\n",
            "5.00       1\n",
            "dtype: int64 \n",
            "\n",
            "Chocolates Bon o Bon                                                           5.00\n",
            "Bolígrafo Bic Cristal Punto Ultrafino Negro                                    7.30\n",
            "Estuche de Chocolates Ferrero Rocher                                           8.75\n",
            "Tabletas Alliviax Naproxeno Sódico 550 mg                                      9.89\n",
            "Desodorante en Roll On Bí-O Clinical Hialurónico 50 ml                        39.90\n",
            "Tinte para Cabello Tono Vainilla 100% Cobertura de Canas Nutrisse 157 ml      73.90\n",
            "Cuaderno College Norma Color Cosido Cuadro Chico 100 Hojas                    76.90\n",
            "Shampoo Fructis Brillo Vitaminado 650 ml                                      79.90\n",
            "Camara Web Acteck 720P WM20 Negro                                            319.90\n",
            "Mouse Gaming Inalámbrico Hiperion Balam Rush Espectrum                       749.00\n",
            "Pantalla TCL Smart 32\" HD Smart TV                                          4799.90\n",
            "dtype: float64\n"
          ]
        }
      ]
    },
    {
      "cell_type": "markdown",
      "source": [
        "Series en pandas - 6. Realizar operaciones con la serie"
      ],
      "metadata": {
        "id": "rVCn8sj8M5dg"
      }
    },
    {
      "cell_type": "code",
      "source": [
        "productos + 1"
      ],
      "metadata": {
        "colab": {
          "base_uri": "https://localhost:8080/"
        },
        "id": "ndGr4deeMnGq",
        "outputId": "329e1e26-6936-497d-cb69-077bb6160ab0"
      },
      "execution_count": 11,
      "outputs": [
        {
          "output_type": "execute_result",
          "data": {
            "text/plain": [
              "Bolígrafo Bic Cristal Punto Ultrafino Negro                                    8.30\n",
              "Cuaderno College Norma Color Cosido Cuadro Chico 100 Hojas                    77.90\n",
              "Pantalla TCL Smart 32\" HD Smart TV                                          4800.90\n",
              "Camara Web Acteck 720P WM20 Negro                                            320.90\n",
              "Mouse Gaming Inalámbrico Hiperion Balam Rush Espectrum                       750.00\n",
              "Tinte para Cabello Tono Vainilla 100% Cobertura de Canas Nutrisse 157 ml      74.90\n",
              "Shampoo Fructis Brillo Vitaminado 650 ml                                      80.90\n",
              "Desodorante en Roll On Bí-O Clinical Hialurónico 50 ml                        40.90\n",
              "Tabletas Alliviax Naproxeno Sódico 550 mg                                     10.89\n",
              "Estuche de Chocolates Ferrero Rocher                                           9.75\n",
              "Chocolates Bon o Bon                                                           6.00\n",
              "dtype: float64"
            ]
          },
          "metadata": {},
          "execution_count": 11
        }
      ]
    },
    {
      "cell_type": "code",
      "source": [
        "productos + productos"
      ],
      "metadata": {
        "colab": {
          "base_uri": "https://localhost:8080/"
        },
        "id": "xyuEp0hNNAlw",
        "outputId": "5aa111de-0e4a-4749-f181-a4eb65969240"
      },
      "execution_count": 12,
      "outputs": [
        {
          "output_type": "execute_result",
          "data": {
            "text/plain": [
              "Bolígrafo Bic Cristal Punto Ultrafino Negro                                   14.60\n",
              "Cuaderno College Norma Color Cosido Cuadro Chico 100 Hojas                   153.80\n",
              "Pantalla TCL Smart 32\" HD Smart TV                                          9599.80\n",
              "Camara Web Acteck 720P WM20 Negro                                            639.80\n",
              "Mouse Gaming Inalámbrico Hiperion Balam Rush Espectrum                      1498.00\n",
              "Tinte para Cabello Tono Vainilla 100% Cobertura de Canas Nutrisse 157 ml     147.80\n",
              "Shampoo Fructis Brillo Vitaminado 650 ml                                     159.80\n",
              "Desodorante en Roll On Bí-O Clinical Hialurónico 50 ml                        79.80\n",
              "Tabletas Alliviax Naproxeno Sódico 550 mg                                     19.78\n",
              "Estuche de Chocolates Ferrero Rocher                                          17.50\n",
              "Chocolates Bon o Bon                                                          10.00\n",
              "dtype: float64"
            ]
          },
          "metadata": {},
          "execution_count": 12
        }
      ]
    },
    {
      "cell_type": "code",
      "source": [
        "productos / 2"
      ],
      "metadata": {
        "colab": {
          "base_uri": "https://localhost:8080/"
        },
        "id": "cloVXesoNDJ4",
        "outputId": "1b5754c8-60e2-40e1-f3ad-34a6d5375461"
      },
      "execution_count": 13,
      "outputs": [
        {
          "output_type": "execute_result",
          "data": {
            "text/plain": [
              "Bolígrafo Bic Cristal Punto Ultrafino Negro                                    3.650\n",
              "Cuaderno College Norma Color Cosido Cuadro Chico 100 Hojas                    38.450\n",
              "Pantalla TCL Smart 32\" HD Smart TV                                          2399.950\n",
              "Camara Web Acteck 720P WM20 Negro                                            159.950\n",
              "Mouse Gaming Inalámbrico Hiperion Balam Rush Espectrum                       374.500\n",
              "Tinte para Cabello Tono Vainilla 100% Cobertura de Canas Nutrisse 157 ml      36.950\n",
              "Shampoo Fructis Brillo Vitaminado 650 ml                                      39.950\n",
              "Desodorante en Roll On Bí-O Clinical Hialurónico 50 ml                        19.950\n",
              "Tabletas Alliviax Naproxeno Sódico 550 mg                                      4.945\n",
              "Estuche de Chocolates Ferrero Rocher                                           4.375\n",
              "Chocolates Bon o Bon                                                           2.500\n",
              "dtype: float64"
            ]
          },
          "metadata": {},
          "execution_count": 13
        }
      ]
    },
    {
      "cell_type": "code",
      "source": [
        "productos * 3"
      ],
      "metadata": {
        "colab": {
          "base_uri": "https://localhost:8080/"
        },
        "id": "UKn2Dh98NNVD",
        "outputId": "6da81545-d36e-4458-f05c-a759e3975b21"
      },
      "execution_count": 14,
      "outputs": [
        {
          "output_type": "execute_result",
          "data": {
            "text/plain": [
              "Bolígrafo Bic Cristal Punto Ultrafino Negro                                    21.90\n",
              "Cuaderno College Norma Color Cosido Cuadro Chico 100 Hojas                    230.70\n",
              "Pantalla TCL Smart 32\" HD Smart TV                                          14399.70\n",
              "Camara Web Acteck 720P WM20 Negro                                             959.70\n",
              "Mouse Gaming Inalámbrico Hiperion Balam Rush Espectrum                       2247.00\n",
              "Tinte para Cabello Tono Vainilla 100% Cobertura de Canas Nutrisse 157 ml      221.70\n",
              "Shampoo Fructis Brillo Vitaminado 650 ml                                      239.70\n",
              "Desodorante en Roll On Bí-O Clinical Hialurónico 50 ml                        119.70\n",
              "Tabletas Alliviax Naproxeno Sódico 550 mg                                      29.67\n",
              "Estuche de Chocolates Ferrero Rocher                                           26.25\n",
              "Chocolates Bon o Bon                                                           15.00\n",
              "dtype: float64"
            ]
          },
          "metadata": {},
          "execution_count": 14
        }
      ]
    },
    {
      "cell_type": "code",
      "source": [
        "productos - 2"
      ],
      "metadata": {
        "colab": {
          "base_uri": "https://localhost:8080/"
        },
        "id": "xfKB0oOiNPrr",
        "outputId": "064d805a-3641-40d7-c8ae-e43c22906dc7"
      },
      "execution_count": 15,
      "outputs": [
        {
          "output_type": "execute_result",
          "data": {
            "text/plain": [
              "Bolígrafo Bic Cristal Punto Ultrafino Negro                                    5.30\n",
              "Cuaderno College Norma Color Cosido Cuadro Chico 100 Hojas                    74.90\n",
              "Pantalla TCL Smart 32\" HD Smart TV                                          4797.90\n",
              "Camara Web Acteck 720P WM20 Negro                                            317.90\n",
              "Mouse Gaming Inalámbrico Hiperion Balam Rush Espectrum                       747.00\n",
              "Tinte para Cabello Tono Vainilla 100% Cobertura de Canas Nutrisse 157 ml      71.90\n",
              "Shampoo Fructis Brillo Vitaminado 650 ml                                      77.90\n",
              "Desodorante en Roll On Bí-O Clinical Hialurónico 50 ml                        37.90\n",
              "Tabletas Alliviax Naproxeno Sódico 550 mg                                      7.89\n",
              "Estuche de Chocolates Ferrero Rocher                                           6.75\n",
              "Chocolates Bon o Bon                                                           3.00\n",
              "dtype: float64"
            ]
          },
          "metadata": {},
          "execution_count": 15
        }
      ]
    },
    {
      "cell_type": "code",
      "source": [
        "productos.max()"
      ],
      "metadata": {
        "colab": {
          "base_uri": "https://localhost:8080/"
        },
        "id": "UOnY0M-pNRNk",
        "outputId": "571d9b20-7cb7-4104-ede1-b7946abe2182"
      },
      "execution_count": 16,
      "outputs": [
        {
          "output_type": "execute_result",
          "data": {
            "text/plain": [
              "4799.9"
            ]
          },
          "metadata": {},
          "execution_count": 16
        }
      ]
    },
    {
      "cell_type": "code",
      "source": [
        "productos.min()"
      ],
      "metadata": {
        "colab": {
          "base_uri": "https://localhost:8080/"
        },
        "id": "WC_mj5a3NUx0",
        "outputId": "32600fac-8277-463c-80c5-f73044524aed"
      },
      "execution_count": 17,
      "outputs": [
        {
          "output_type": "execute_result",
          "data": {
            "text/plain": [
              "5.0"
            ]
          },
          "metadata": {},
          "execution_count": 17
        }
      ]
    },
    {
      "cell_type": "code",
      "source": [
        "productos.sum()"
      ],
      "metadata": {
        "colab": {
          "base_uri": "https://localhost:8080/"
        },
        "id": "yetfzjKeNWRd",
        "outputId": "31decefc-a4e7-4459-8ab6-551dc51868d1"
      },
      "execution_count": 18,
      "outputs": [
        {
          "output_type": "execute_result",
          "data": {
            "text/plain": [
              "6170.339999999999"
            ]
          },
          "metadata": {},
          "execution_count": 18
        }
      ]
    },
    {
      "cell_type": "code",
      "source": [
        "productos.var()"
      ],
      "metadata": {
        "colab": {
          "base_uri": "https://localhost:8080/"
        },
        "id": "2VbyhHldNXmN",
        "outputId": "360537a0-e645-4888-e8f3-aa38af9bbeee"
      },
      "execution_count": 19,
      "outputs": [
        {
          "output_type": "execute_result",
          "data": {
            "text/plain": [
              "2026079.0004999998"
            ]
          },
          "metadata": {},
          "execution_count": 19
        }
      ]
    },
    {
      "cell_type": "code",
      "source": [
        "productos.std()"
      ],
      "metadata": {
        "colab": {
          "base_uri": "https://localhost:8080/"
        },
        "id": "iKeKT9LrNZCm",
        "outputId": "da68a25c-8297-4e3c-aac4-b3472e8a7411"
      },
      "execution_count": 20,
      "outputs": [
        {
          "output_type": "execute_result",
          "data": {
            "text/plain": [
              "1423.4040187171033"
            ]
          },
          "metadata": {},
          "execution_count": 20
        }
      ]
    },
    {
      "cell_type": "code",
      "source": [
        "productos.cumsum()"
      ],
      "metadata": {
        "colab": {
          "base_uri": "https://localhost:8080/"
        },
        "id": "nRvPf89JNa8G",
        "outputId": "05daf53a-339b-4808-87cc-641540deecbf"
      },
      "execution_count": 21,
      "outputs": [
        {
          "output_type": "execute_result",
          "data": {
            "text/plain": [
              "Bolígrafo Bic Cristal Punto Ultrafino Negro                                    7.30\n",
              "Cuaderno College Norma Color Cosido Cuadro Chico 100 Hojas                    84.20\n",
              "Pantalla TCL Smart 32\" HD Smart TV                                          4884.10\n",
              "Camara Web Acteck 720P WM20 Negro                                           5204.00\n",
              "Mouse Gaming Inalámbrico Hiperion Balam Rush Espectrum                      5953.00\n",
              "Tinte para Cabello Tono Vainilla 100% Cobertura de Canas Nutrisse 157 ml    6026.90\n",
              "Shampoo Fructis Brillo Vitaminado 650 ml                                    6106.80\n",
              "Desodorante en Roll On Bí-O Clinical Hialurónico 50 ml                      6146.70\n",
              "Tabletas Alliviax Naproxeno Sódico 550 mg                                   6156.59\n",
              "Estuche de Chocolates Ferrero Rocher                                        6165.34\n",
              "Chocolates Bon o Bon                                                        6170.34\n",
              "dtype: float64"
            ]
          },
          "metadata": {},
          "execution_count": 21
        }
      ]
    },
    {
      "cell_type": "code",
      "source": [
        "productos.describe()"
      ],
      "metadata": {
        "colab": {
          "base_uri": "https://localhost:8080/"
        },
        "id": "4lo24hDmNcpe",
        "outputId": "a3b27041-e850-40cc-b296-d20c6dee4d10"
      },
      "execution_count": 22,
      "outputs": [
        {
          "output_type": "execute_result",
          "data": {
            "text/plain": [
              "count      11.000000\n",
              "mean      560.940000\n",
              "std      1423.404019\n",
              "min         5.000000\n",
              "25%         9.320000\n",
              "50%        73.900000\n",
              "75%       199.900000\n",
              "max      4799.900000\n",
              "dtype: float64"
            ]
          },
          "metadata": {},
          "execution_count": 22
        }
      ]
    },
    {
      "cell_type": "code",
      "source": [
        "productos.mean()"
      ],
      "metadata": {
        "colab": {
          "base_uri": "https://localhost:8080/"
        },
        "id": "f0lTNc0rNfUG",
        "outputId": "f7e77594-d3e4-4125-eef3-fbdfcf1ec0ce"
      },
      "execution_count": 23,
      "outputs": [
        {
          "output_type": "execute_result",
          "data": {
            "text/plain": [
              "560.9399999999999"
            ]
          },
          "metadata": {},
          "execution_count": 23
        }
      ]
    },
    {
      "cell_type": "markdown",
      "source": [
        "7. Graficar la lista"
      ],
      "metadata": {
        "id": "35uufihiNnN4"
      }
    },
    {
      "cell_type": "code",
      "source": [
        "productos.plot()"
      ],
      "metadata": {
        "colab": {
          "base_uri": "https://localhost:8080/",
          "height": 451
        },
        "id": "8byYFlyBNhRv",
        "outputId": "2b488085-a0f4-4384-cafa-0d075e1063a8"
      },
      "execution_count": 25,
      "outputs": [
        {
          "output_type": "execute_result",
          "data": {
            "text/plain": [
              "<Axes: >"
            ]
          },
          "metadata": {},
          "execution_count": 25
        },
        {
          "output_type": "display_data",
          "data": {
            "text/plain": [
              "<Figure size 640x480 with 1 Axes>"
            ],
            "image/png": "[encoded data removed]"
          },
          "metadata": {}
        }
      ]
    },
    {
      "cell_type": "markdown",
      "source": [
        "Dataframe Atributo 1.- Mostrar información del dataframe"
      ],
      "metadata": {
        "id": "lg5E-x9w6510"
      }
    },
    {
      "cell_type": "code",
      "source": [
        "dataframe.info"
      ],
      "metadata": {
        "colab": {
          "base_uri": "https://localhost:8080/"
        },
        "id": "7c9_4O2a6rDm",
        "outputId": "e681db6e-985c-4a69-dc5d-3039d6c27869"
      },
      "execution_count": 27,
      "outputs": [
        {
          "output_type": "execute_result",
          "data": {
            "text/plain": [
              "<bound method DataFrame.info of     Unnamed: 0  CANTIDAD                                        DESCRIPCION  \\\n",
              "0            0         3       Bolígrafo Bic Cristal Punto Ultrafino Negro    \n",
              "1            1         1  Cuaderno College Norma Color Cosido Cuadro Chi...   \n",
              "2            2         1                 Pantalla TCL Smart 32\" HD Smart TV   \n",
              "3            3         1                  Camara Web Acteck 720P WM20 Negro   \n",
              "4            4         1  Mouse Gaming Inalámbrico Hiperion Balam Rush E...   \n",
              "5            5         1  Tinte para Cabello Tono Vainilla 100% Cobertur...   \n",
              "6            6         1           Shampoo Fructis Brillo Vitaminado 650 ml   \n",
              "7            7         1  Desodorante en Roll On Bí-O Clinical Hialuróni...   \n",
              "8            8        10         Tabletas Alliviax Naproxeno Sódico 550 mg    \n",
              "9            9        16              Estuche de Chocolates Ferrero Rocher    \n",
              "10          10         4                               Chocolates Bon o Bon   \n",
              "\n",
              "    PRECIO UNITARIO  IMPORTE  DESCUENTO  TOTAL CON DECUENTO FECHA DE ENTRADA  \\\n",
              "0              7.30     21.9       0.30              15.330       2023-01-03   \n",
              "1             76.90     76.9       0.30              53.830       2023-03-02   \n",
              "2           4799.90   4799.9       0.00            4799.900       2023-03-15   \n",
              "3            319.90    319.9       0.50             159.950       2023-04-07   \n",
              "4            749.00    749.0       0.00             749.000       2023-04-11   \n",
              "5             73.90     73.9       0.14              63.554       2023-05-05   \n",
              "6             79.90     79.9       0.13              69.513       2023-05-08   \n",
              "7             39.90     39.9       0.00              39.900       2023-06-09   \n",
              "8              9.89     98.9       0.00              98.900       2023-06-19   \n",
              "9              8.75    140.0       0.00             140.000       2023-07-10   \n",
              "10             5.00     20.0       0.00              20.000       2023-07-12   \n",
              "\n",
              "                  DEPARTAMENTO      BANCO  NUMERO DE PRODUCTO  \n",
              "0          Escolar y Papelería  SANTANDER               25018  \n",
              "1          Escolar y Papelería  SANTANDER               24799  \n",
              "2                  Electrónica  SANTANDER               24734  \n",
              "3                  Electrónica    BANORTE               24730  \n",
              "4                  Electrónica    BANORTE               24767  \n",
              "5   Belleza y Cuidado Personal  SANTANDER               24699  \n",
              "6   Belleza y Cuidado Personal    BANORTE               24864  \n",
              "7   Belleza y Cuidado Personal  SANTANDER               24525  \n",
              "8                 Medicamentos  SANTANDER               24682  \n",
              "9                     Dulcería    BANORTE               25216  \n",
              "10                    Dulcería  SANTANDER               24517  >"
            ]
          },
          "metadata": {},
          "execution_count": 27
        }
      ]
    },
    {
      "cell_type": "code",
      "source": [
        "dataframe.dtypes"
      ],
      "metadata": {
        "colab": {
          "base_uri": "https://localhost:8080/"
        },
        "id": "HiBi8Q2t7M1G",
        "outputId": "f40d1cbe-e134-4b41-cba4-9157a4f86374"
      },
      "execution_count": 28,
      "outputs": [
        {
          "output_type": "execute_result",
          "data": {
            "text/plain": [
              "Unnamed: 0                     int64\n",
              "CANTIDAD                       int64\n",
              "DESCRIPCION                   object\n",
              "PRECIO UNITARIO              float64\n",
              "IMPORTE                      float64\n",
              "DESCUENTO                    float64\n",
              "TOTAL CON DECUENTO           float64\n",
              "FECHA DE ENTRADA      datetime64[ns]\n",
              "DEPARTAMENTO                  object\n",
              "BANCO                         object\n",
              "NUMERO DE PRODUCTO             int64\n",
              "dtype: object"
            ]
          },
          "metadata": {},
          "execution_count": 28
        }
      ]
    },
    {
      "cell_type": "code",
      "source": [
        "dataframe.shape"
      ],
      "metadata": {
        "colab": {
          "base_uri": "https://localhost:8080/"
        },
        "id": "ubPJ-J2s7aC5",
        "outputId": "18f23a2b-80c5-457c-a67c-86f107234808"
      },
      "execution_count": 29,
      "outputs": [
        {
          "output_type": "execute_result",
          "data": {
            "text/plain": [
              "(11, 11)"
            ]
          },
          "metadata": {},
          "execution_count": 29
        }
      ]
    },
    {
      "cell_type": "code",
      "source": [
        "dataframe.size"
      ],
      "metadata": {
        "colab": {
          "base_uri": "https://localhost:8080/"
        },
        "id": "JJqP_XUg-jzY",
        "outputId": "21c48384-16a8-481e-912d-46543d2d5354"
      },
      "execution_count": 30,
      "outputs": [
        {
          "output_type": "execute_result",
          "data": {
            "text/plain": [
              "121"
            ]
          },
          "metadata": {},
          "execution_count": 30
        }
      ]
    },
    {
      "cell_type": "code",
      "source": [
        "dataframe.index"
      ],
      "metadata": {
        "colab": {
          "base_uri": "https://localhost:8080/"
        },
        "id": "sUWDE40c_4js",
        "outputId": "54696e82-556a-48b1-dfa1-3a80e7f9d9fc"
      },
      "execution_count": 31,
      "outputs": [
        {
          "output_type": "execute_result",
          "data": {
            "text/plain": [
              "RangeIndex(start=0, stop=11, step=1)"
            ]
          },
          "metadata": {},
          "execution_count": 31
        }
      ]
    },
    {
      "cell_type": "code",
      "source": [
        "dataframe.columns"
      ],
      "metadata": {
        "colab": {
          "base_uri": "https://localhost:8080/"
        },
        "id": "9FQRVimf_6pT",
        "outputId": "63fc7397-ea86-4228-e1d8-77d067987fae"
      },
      "execution_count": 32,
      "outputs": [
        {
          "output_type": "execute_result",
          "data": {
            "text/plain": [
              "Index(['Unnamed: 0', 'CANTIDAD', 'DESCRIPCION', 'PRECIO UNITARIO', 'IMPORTE',\n",
              "       'DESCUENTO', 'TOTAL CON DECUENTO', 'FECHA DE ENTRADA', 'DEPARTAMENTO',\n",
              "       'BANCO', 'NUMERO DE PRODUCTO'],\n",
              "      dtype='object')"
            ]
          },
          "metadata": {},
          "execution_count": 32
        }
      ]
    },
    {
      "cell_type": "code",
      "source": [
        "dataframe.head(5)"
      ],
      "metadata": {
        "colab": {
          "base_uri": "https://localhost:8080/",
          "height": 206
        },
        "id": "H0WnLlSJ_8SE",
        "outputId": "2a8ffd48-29b3-4bee-d215-a29278b3c488"
      },
      "execution_count": 46,
      "outputs": [
        {
          "output_type": "execute_result",
          "data": {
            "text/plain": [
              "   Unnamed: 0  CANTIDAD                                        DESCRIPCION  \\\n",
              "0           0         3       Bolígrafo Bic Cristal Punto Ultrafino Negro    \n",
              "1           1         1  Cuaderno College Norma Color Cosido Cuadro Chi...   \n",
              "2           2         1                 Pantalla TCL Smart 32\" HD Smart TV   \n",
              "3           3         1                  Camara Web Acteck 720P WM20 Negro   \n",
              "4           4         1  Mouse Gaming Inalámbrico Hiperion Balam Rush E...   \n",
              "\n",
              "   PRECIO UNITARIO  IMPORTE  DESCUENTO  TOTAL CON DECUENTO FECHA DE ENTRADA  \\\n",
              "0              7.3     21.9        0.3               15.33       2023-01-03   \n",
              "1             76.9     76.9        0.3               53.83       2023-03-02   \n",
              "2           4799.9   4799.9        0.0             4799.90       2023-03-15   \n",
              "3            319.9    319.9        0.5              159.95       2023-04-07   \n",
              "4            749.0    749.0        0.0              749.00       2023-04-11   \n",
              "\n",
              "          DEPARTAMENTO      BANCO  NUMERO DE PRODUCTO  \n",
              "0  Escolar y Papelería  SANTANDER               25018  \n",
              "1  Escolar y Papelería  SANTANDER               24799  \n",
              "2          Electrónica  SANTANDER               24734  \n",
              "3          Electrónica    BANORTE               24730  \n",
              "4          Electrónica    BANORTE               24767  "
            ],
            "text/html": [
              "\n",
              "  <div id=\"df-f6ef30c7-2baf-4a36-86d4-c315869bfe73\" class=\"colab-df-container\">\n",
              "    <div>\n",
              "<style scoped>\n",
              "    .dataframe tbody tr th:only-of-type {\n",
              "        vertical-align: middle;\n",
              "    }\n",
              "\n",
              "    .dataframe tbody tr th {\n",
              "        vertical-align: top;\n",
              "    }\n",
              "\n",
              "    .dataframe thead th {\n",
              "        text-align: right;\n",
              "    }\n",
              "</style>\n",
              "<table border=\"1\" class=\"dataframe\">\n",
              "  <thead>\n",
              "    <tr style=\"text-align: right;\">\n",
              "      <th></th>\n",
              "      <th>Unnamed: 0</th>\n",
              "      <th>CANTIDAD</th>\n",
              "      <th>DESCRIPCION</th>\n",
              "      <th>PRECIO UNITARIO</th>\n",
              "      <th>IMPORTE</th>\n",
              "      <th>DESCUENTO</th>\n",
              "      <th>TOTAL CON DECUENTO</th>\n",
              "      <th>FECHA DE ENTRADA</th>\n",
              "      <th>DEPARTAMENTO</th>\n",
              "      <th>BANCO</th>\n",
              "      <th>NUMERO DE PRODUCTO</th>\n",
              "    </tr>\n",
              "  </thead>\n",
              "  <tbody>\n",
              "    <tr>\n",
              "      <th>0</th>\n",
              "      <td>0</td>\n",
              "      <td>3</td>\n",
              "      <td>Bolígrafo Bic Cristal Punto Ultrafino Negro</td>\n",
              "      <td>7.3</td>\n",
              "      <td>21.9</td>\n",
              "      <td>0.3</td>\n",
              "      <td>15.33</td>\n",
              "      <td>2023-01-03</td>\n",
              "      <td>Escolar y Papelería</td>\n",
              "      <td>SANTANDER</td>\n",
              "      <td>25018</td>\n",
              "    </tr>\n",
              "    <tr>\n",
              "      <th>1</th>\n",
              "      <td>1</td>\n",
              "      <td>1</td>\n",
              "      <td>Cuaderno College Norma Color Cosido Cuadro Chi...</td>\n",
              "      <td>76.9</td>\n",
              "      <td>76.9</td>\n",
              "      <td>0.3</td>\n",
              "      <td>53.83</td>\n",
              "      <td>2023-03-02</td>\n",
              "      <td>Escolar y Papelería</td>\n",
              "      <td>SANTANDER</td>\n",
              "      <td>24799</td>\n",
              "    </tr>\n",
              "    <tr>\n",
              "      <th>2</th>\n",
              "      <td>2</td>\n",
              "      <td>1</td>\n",
              "      <td>Pantalla TCL Smart 32\" HD Smart TV</td>\n",
              "      <td>4799.9</td>\n",
              "      <td>4799.9</td>\n",
              "      <td>0.0</td>\n",
              "      <td>4799.90</td>\n",
              "      <td>2023-03-15</td>\n",
              "      <td>Electrónica</td>\n",
              "      <td>SANTANDER</td>\n",
              "      <td>24734</td>\n",
              "    </tr>\n",
              "    <tr>\n",
              "      <th>3</th>\n",
              "      <td>3</td>\n",
              "      <td>1</td>\n",
              "      <td>Camara Web Acteck 720P WM20 Negro</td>\n",
              "      <td>319.9</td>\n",
              "      <td>319.9</td>\n",
              "      <td>0.5</td>\n",
              "      <td>159.95</td>\n",
              "      <td>2023-04-07</td>\n",
              "      <td>Electrónica</td>\n",
              "      <td>BANORTE</td>\n",
              "      <td>24730</td>\n",
              "    </tr>\n",
              "    <tr>\n",
              "      <th>4</th>\n",
              "      <td>4</td>\n",
              "      <td>1</td>\n",
              "      <td>Mouse Gaming Inalámbrico Hiperion Balam Rush E...</td>\n",
              "      <td>749.0</td>\n",
              "      <td>749.0</td>\n",
              "      <td>0.0</td>\n",
              "      <td>749.00</td>\n",
              "      <td>2023-04-11</td>\n",
              "      <td>Electrónica</td>\n",
              "      <td>BANORTE</td>\n",
              "      <td>24767</td>\n",
              "    </tr>\n",
              "  </tbody>\n",
              "</table>\n",
              "</div>\n",
              "    <div class=\"colab-df-buttons\">\n",
              "\n",
              "  <div class=\"colab-df-container\">\n",
              "    <button class=\"colab-df-convert\" onclick=\"convertToInteractive('df-f6ef30c7-2baf-4a36-86d4-c315869bfe73')\"\n",
              "            title=\"Convert this dataframe to an interactive table.\"\n",
              "            style=\"display:none;\">\n",
              "\n",
              "  <svg xmlns=\"http://www.w3.org/2000/svg\" height=\"24px\" viewBox=\"0 -960 960 960\">\n",
              "    <path d=\"M120-120v-720h720v720H120Zm60-500h600v-160H180v160Zm220 220h160v-160H400v160Zm0 220h160v-160H400v160ZM180-400h160v-160H180v160Zm440 0h160v-160H620v160ZM180-180h160v-160H180v160Zm440 0h160v-160H620v160Z\"/>\n",
              "  </svg>\n",
              "    </button>\n",
              "\n",
              "  <style>\n",
              "    .colab-df-container {\n",
              "      display:flex;\n",
              "      gap: 12px;\n",
              "    }\n",
              "\n",
              "    .colab-df-convert {\n",
              "      background-color: #E8F0FE;\n",
              "      border: none;\n",
              "      border-radius: 50%;\n",
              "      cursor: pointer;\n",
              "      display: none;\n",
              "      fill: #1967D2;\n",
              "      height: 32px;\n",
              "      padding: 0 0 0 0;\n",
              "      width: 32px;\n",
              "    }\n",
              "\n",
              "    .colab-df-convert:hover {\n",
              "      background-color: #E2EBFA;\n",
              "      box-shadow: 0px 1px 2px rgba(60, 64, 67, 0.3), 0px 1px 3px 1px rgba(60, 64, 67, 0.15);\n",
              "      fill: #174EA6;\n",
              "    }\n",
              "\n",
              "    .colab-df-buttons div {\n",
              "      margin-bottom: 4px;\n",
              "    }\n",
              "\n",
              "    [theme=dark] .colab-df-convert {\n",
              "      background-color: #3B4455;\n",
              "      fill: #D2E3FC;\n",
              "    }\n",
              "\n",
              "    [theme=dark] .colab-df-convert:hover {\n",
              "      background-color: #434B5C;\n",
              "      box-shadow: 0px 1px 3px 1px rgba(0, 0, 0, 0.15);\n",
              "      filter: drop-shadow(0px 1px 2px rgba(0, 0, 0, 0.3));\n",
              "      fill: #FFFFFF;\n",
              "    }\n",
              "  </style>\n",
              "\n",
              "    <script>\n",
              "      const buttonEl =\n",
              "        document.querySelector('#df-f6ef30c7-2baf-4a36-86d4-c315869bfe73 button.colab-df-convert');\n",
              "      buttonEl.style.display =\n",
              "        google.colab.kernel.accessAllowed ? 'block' : 'none';\n",
              "\n",
              "      async function convertToInteractive(key) {\n",
              "        const element = document.querySelector('#df-f6ef30c7-2baf-4a36-86d4-c315869bfe73');\n",
              "        const dataTable =\n",
              "          await google.colab.kernel.invokeFunction('convertToInteractive',\n",
              "                                                    [key], {});\n",
              "        if (!dataTable) return;\n",
              "\n",
              "        const docLinkHtml = 'Like what you see? Visit the ' +\n",
              "          '<a target=\"_blank\" href=https://colab.research.google.com/notebooks/data_table.ipynb>data table notebook</a>'\n",
              "          + ' to learn more about interactive tables.';\n",
              "        element.innerHTML = '';\n",
              "        dataTable['output_type'] = 'display_data';\n",
              "        await google.colab.output.renderOutput(dataTable, element);\n",
              "        const docLink = document.createElement('div');\n",
              "        docLink.innerHTML = docLinkHtml;\n",
              "        element.appendChild(docLink);\n",
              "      }\n",
              "    </script>\n",
              "  </div>\n",
              "\n",
              "\n",
              "<div id=\"df-15000f69-24f4-42bf-b2f9-18d8ab6d5aad\">\n",
              "  <button class=\"colab-df-quickchart\" onclick=\"quickchart('df-15000f69-24f4-42bf-b2f9-18d8ab6d5aad')\"\n",
              "            title=\"Suggest charts.\"\n",
              "            style=\"display:none;\">\n",
              "\n",
              "<svg xmlns=\"http://www.w3.org/2000/svg\" height=\"24px\"viewBox=\"0 0 24 24\"\n",
              "     width=\"24px\">\n",
              "    <g>\n",
              "        <path d=\"M19 3H5c-1.1 0-2 .9-2 2v14c0 1.1.9 2 2 2h14c1.1 0 2-.9 2-2V5c0-1.1-.9-2-2-2zM9 17H7v-7h2v7zm4 0h-2V7h2v10zm4 0h-2v-4h2v4z\"/>\n",
              "    </g>\n",
              "</svg>\n",
              "  </button>\n",
              "\n",
              "<style>\n",
              "  .colab-df-quickchart {\n",
              "      --bg-color: #E8F0FE;\n",
              "      --fill-color: #1967D2;\n",
              "      --hover-bg-color: #E2EBFA;\n",
              "      --hover-fill-color: #174EA6;\n",
              "      --disabled-fill-color: #AAA;\n",
              "      --disabled-bg-color: #DDD;\n",
              "  }\n",
              "\n",
              "  [theme=dark] .colab-df-quickchart {\n",
              "      --bg-color: #3B4455;\n",
              "      --fill-color: #D2E3FC;\n",
              "      --hover-bg-color: #434B5C;\n",
              "      --hover-fill-color: #FFFFFF;\n",
              "      --disabled-bg-color: #3B4455;\n",
              "      --disabled-fill-color: #666;\n",
              "  }\n",
              "\n",
              "  .colab-df-quickchart {\n",
              "    background-color: var(--bg-color);\n",
              "    border: none;\n",
              "    border-radius: 50%;\n",
              "    cursor: pointer;\n",
              "    display: none;\n",
              "    fill: var(--fill-color);\n",
              "    height: 32px;\n",
              "    padding: 0;\n",
              "    width: 32px;\n",
              "  }\n",
              "\n",
              "  .colab-df-quickchart:hover {\n",
              "    background-color: var(--hover-bg-color);\n",
              "    box-shadow: 0 1px 2px rgba(60, 64, 67, 0.3), 0 1px 3px 1px rgba(60, 64, 67, 0.15);\n",
              "    fill: var(--button-hover-fill-color);\n",
              "  }\n",
              "\n",
              "  .colab-df-quickchart-complete:disabled,\n",
              "  .colab-df-quickchart-complete:disabled:hover {\n",
              "    background-color: var(--disabled-bg-color);\n",
              "    fill: var(--disabled-fill-color);\n",
              "    box-shadow: none;\n",
              "  }\n",
              "\n",
              "  .colab-df-spinner {\n",
              "    border: 2px solid var(--fill-color);\n",
              "    border-color: transparent;\n",
              "    border-bottom-color: var(--fill-color);\n",
              "    animation:\n",
              "      spin 1s steps(1) infinite;\n",
              "  }\n",
              "\n",
              "  @keyframes spin {\n",
              "    0% {\n",
              "      border-color: transparent;\n",
              "      border-bottom-color: var(--fill-color);\n",
              "      border-left-color: var(--fill-color);\n",
              "    }\n",
              "    20% {\n",
              "      border-color: transparent;\n",
              "      border-left-color: var(--fill-color);\n",
              "      border-top-color: var(--fill-color);\n",
              "    }\n",
              "    30% {\n",
              "      border-color: transparent;\n",
              "      border-left-color: var(--fill-color);\n",
              "      border-top-color: var(--fill-color);\n",
              "      border-right-color: var(--fill-color);\n",
              "    }\n",
              "    40% {\n",
              "      border-color: transparent;\n",
              "      border-right-color: var(--fill-color);\n",
              "      border-top-color: var(--fill-color);\n",
              "    }\n",
              "    60% {\n",
              "      border-color: transparent;\n",
              "      border-right-color: var(--fill-color);\n",
              "    }\n",
              "    80% {\n",
              "      border-color: transparent;\n",
              "      border-right-color: var(--fill-color);\n",
              "      border-bottom-color: var(--fill-color);\n",
              "    }\n",
              "    90% {\n",
              "      border-color: transparent;\n",
              "      border-bottom-color: var(--fill-color);\n",
              "    }\n",
              "  }\n",
              "</style>\n",
              "\n",
              "  <script>\n",
              "    async function quickchart(key) {\n",
              "      const quickchartButtonEl =\n",
              "        document.querySelector('#' + key + ' button');\n",
              "      quickchartButtonEl.disabled = true;  // To prevent multiple clicks.\n",
              "      quickchartButtonEl.classList.add('colab-df-spinner');\n",
              "      try {\n",
              "        const charts = await google.colab.kernel.invokeFunction(\n",
              "            'suggestCharts', [key], {});\n",
              "      } catch (error) {\n",
              "        console.error('Error during call to suggestCharts:', error);\n",
              "      }\n",
              "      quickchartButtonEl.classList.remove('colab-df-spinner');\n",
              "      quickchartButtonEl.classList.add('colab-df-quickchart-complete');\n",
              "    }\n",
              "    (() => {\n",
              "      let quickchartButtonEl =\n",
              "        document.querySelector('#df-15000f69-24f4-42bf-b2f9-18d8ab6d5aad button');\n",
              "      quickchartButtonEl.style.display =\n",
              "        google.colab.kernel.accessAllowed ? 'block' : 'none';\n",
              "    })();\n",
              "  </script>\n",
              "</div>\n",
              "    </div>\n",
              "  </div>\n"
            ]
          },
          "metadata": {},
          "execution_count": 46
        }
      ]
    },
    {
      "cell_type": "code",
      "source": [
        "dataframe.tail(5)"
      ],
      "metadata": {
        "colab": {
          "base_uri": "https://localhost:8080/",
          "height": 206
        },
        "id": "hhZ6TSxV__B-",
        "outputId": "af5ac194-0261-401d-ae47-6644229ea47f"
      },
      "execution_count": 47,
      "outputs": [
        {
          "output_type": "execute_result",
          "data": {
            "text/plain": [
              "    Unnamed: 0  CANTIDAD                                        DESCRIPCION  \\\n",
              "6            6         1           Shampoo Fructis Brillo Vitaminado 650 ml   \n",
              "7            7         1  Desodorante en Roll On Bí-O Clinical Hialuróni...   \n",
              "8            8        10         Tabletas Alliviax Naproxeno Sódico 550 mg    \n",
              "9            9        16              Estuche de Chocolates Ferrero Rocher    \n",
              "10          10         4                               Chocolates Bon o Bon   \n",
              "\n",
              "    PRECIO UNITARIO  IMPORTE  DESCUENTO  TOTAL CON DECUENTO FECHA DE ENTRADA  \\\n",
              "6             79.90     79.9       0.13              69.513       2023-05-08   \n",
              "7             39.90     39.9       0.00              39.900       2023-06-09   \n",
              "8              9.89     98.9       0.00              98.900       2023-06-19   \n",
              "9              8.75    140.0       0.00             140.000       2023-07-10   \n",
              "10             5.00     20.0       0.00              20.000       2023-07-12   \n",
              "\n",
              "                  DEPARTAMENTO      BANCO  NUMERO DE PRODUCTO  \n",
              "6   Belleza y Cuidado Personal    BANORTE               24864  \n",
              "7   Belleza y Cuidado Personal  SANTANDER               24525  \n",
              "8                 Medicamentos  SANTANDER               24682  \n",
              "9                     Dulcería    BANORTE               25216  \n",
              "10                    Dulcería  SANTANDER               24517  "
            ],
            "text/html": [
              "\n",
              "  <div id=\"df-338d4439-605e-4340-acc7-142bde6a4562\" class=\"colab-df-container\">\n",
              "    <div>\n",
              "<style scoped>\n",
              "    .dataframe tbody tr th:only-of-type {\n",
              "        vertical-align: middle;\n",
              "    }\n",
              "\n",
              "    .dataframe tbody tr th {\n",
              "        vertical-align: top;\n",
              "    }\n",
              "\n",
              "    .dataframe thead th {\n",
              "        text-align: right;\n",
              "    }\n",
              "</style>\n",
              "<table border=\"1\" class=\"dataframe\">\n",
              "  <thead>\n",
              "    <tr style=\"text-align: right;\">\n",
              "      <th></th>\n",
              "      <th>Unnamed: 0</th>\n",
              "      <th>CANTIDAD</th>\n",
              "      <th>DESCRIPCION</th>\n",
              "      <th>PRECIO UNITARIO</th>\n",
              "      <th>IMPORTE</th>\n",
              "      <th>DESCUENTO</th>\n",
              "      <th>TOTAL CON DECUENTO</th>\n",
              "      <th>FECHA DE ENTRADA</th>\n",
              "      <th>DEPARTAMENTO</th>\n",
              "      <th>BANCO</th>\n",
              "      <th>NUMERO DE PRODUCTO</th>\n",
              "    </tr>\n",
              "  </thead>\n",
              "  <tbody>\n",
              "    <tr>\n",
              "      <th>6</th>\n",
              "      <td>6</td>\n",
              "      <td>1</td>\n",
              "      <td>Shampoo Fructis Brillo Vitaminado 650 ml</td>\n",
              "      <td>79.90</td>\n",
              "      <td>79.9</td>\n",
              "      <td>0.13</td>\n",
              "      <td>69.513</td>\n",
              "      <td>2023-05-08</td>\n",
              "      <td>Belleza y Cuidado Personal</td>\n",
              "      <td>BANORTE</td>\n",
              "      <td>24864</td>\n",
              "    </tr>\n",
              "    <tr>\n",
              "      <th>7</th>\n",
              "      <td>7</td>\n",
              "      <td>1</td>\n",
              "      <td>Desodorante en Roll On Bí-O Clinical Hialuróni...</td>\n",
              "      <td>39.90</td>\n",
              "      <td>39.9</td>\n",
              "      <td>0.00</td>\n",
              "      <td>39.900</td>\n",
              "      <td>2023-06-09</td>\n",
              "      <td>Belleza y Cuidado Personal</td>\n",
              "      <td>SANTANDER</td>\n",
              "      <td>24525</td>\n",
              "    </tr>\n",
              "    <tr>\n",
              "      <th>8</th>\n",
              "      <td>8</td>\n",
              "      <td>10</td>\n",
              "      <td>Tabletas Alliviax Naproxeno Sódico 550 mg</td>\n",
              "      <td>9.89</td>\n",
              "      <td>98.9</td>\n",
              "      <td>0.00</td>\n",
              "      <td>98.900</td>\n",
              "      <td>2023-06-19</td>\n",
              "      <td>Medicamentos</td>\n",
              "      <td>SANTANDER</td>\n",
              "      <td>24682</td>\n",
              "    </tr>\n",
              "    <tr>\n",
              "      <th>9</th>\n",
              "      <td>9</td>\n",
              "      <td>16</td>\n",
              "      <td>Estuche de Chocolates Ferrero Rocher</td>\n",
              "      <td>8.75</td>\n",
              "      <td>140.0</td>\n",
              "      <td>0.00</td>\n",
              "      <td>140.000</td>\n",
              "      <td>2023-07-10</td>\n",
              "      <td>Dulcería</td>\n",
              "      <td>BANORTE</td>\n",
              "      <td>25216</td>\n",
              "    </tr>\n",
              "    <tr>\n",
              "      <th>10</th>\n",
              "      <td>10</td>\n",
              "      <td>4</td>\n",
              "      <td>Chocolates Bon o Bon</td>\n",
              "      <td>5.00</td>\n",
              "      <td>20.0</td>\n",
              "      <td>0.00</td>\n",
              "      <td>20.000</td>\n",
              "      <td>2023-07-12</td>\n",
              "      <td>Dulcería</td>\n",
              "      <td>SANTANDER</td>\n",
              "      <td>24517</td>\n",
              "    </tr>\n",
              "  </tbody>\n",
              "</table>\n",
              "</div>\n",
              "    <div class=\"colab-df-buttons\">\n",
              "\n",
              "  <div class=\"colab-df-container\">\n",
              "    <button class=\"colab-df-convert\" onclick=\"convertToInteractive('df-338d4439-605e-4340-acc7-142bde6a4562')\"\n",
              "            title=\"Convert this dataframe to an interactive table.\"\n",
              "            style=\"display:none;\">\n",
              "\n",
              "  <svg xmlns=\"http://www.w3.org/2000/svg\" height=\"24px\" viewBox=\"0 -960 960 960\">\n",
              "    <path d=\"M120-120v-720h720v720H120Zm60-500h600v-160H180v160Zm220 220h160v-160H400v160Zm0 220h160v-160H400v160ZM180-400h160v-160H180v160Zm440 0h160v-160H620v160ZM180-180h160v-160H180v160Zm440 0h160v-160H620v160Z\"/>\n",
              "  </svg>\n",
              "    </button>\n",
              "\n",
              "  <style>\n",
              "    .colab-df-container {\n",
              "      display:flex;\n",
              "      gap: 12px;\n",
              "    }\n",
              "\n",
              "    .colab-df-convert {\n",
              "      background-color: #E8F0FE;\n",
              "      border: none;\n",
              "      border-radius: 50%;\n",
              "      cursor: pointer;\n",
              "      display: none;\n",
              "      fill: #1967D2;\n",
              "      height: 32px;\n",
              "      padding: 0 0 0 0;\n",
              "      width: 32px;\n",
              "    }\n",
              "\n",
              "    .colab-df-convert:hover {\n",
              "      background-color: #E2EBFA;\n",
              "      box-shadow: 0px 1px 2px rgba(60, 64, 67, 0.3), 0px 1px 3px 1px rgba(60, 64, 67, 0.15);\n",
              "      fill: #174EA6;\n",
              "    }\n",
              "\n",
              "    .colab-df-buttons div {\n",
              "      margin-bottom: 4px;\n",
              "    }\n",
              "\n",
              "    [theme=dark] .colab-df-convert {\n",
              "      background-color: #3B4455;\n",
              "      fill: #D2E3FC;\n",
              "    }\n",
              "\n",
              "    [theme=dark] .colab-df-convert:hover {\n",
              "      background-color: #434B5C;\n",
              "      box-shadow: 0px 1px 3px 1px rgba(0, 0, 0, 0.15);\n",
              "      filter: drop-shadow(0px 1px 2px rgba(0, 0, 0, 0.3));\n",
              "      fill: #FFFFFF;\n",
              "    }\n",
              "  </style>\n",
              "\n",
              "    <script>\n",
              "      const buttonEl =\n",
              "        document.querySelector('#df-338d4439-605e-4340-acc7-142bde6a4562 button.colab-df-convert');\n",
              "      buttonEl.style.display =\n",
              "        google.colab.kernel.accessAllowed ? 'block' : 'none';\n",
              "\n",
              "      async function convertToInteractive(key) {\n",
              "        const element = document.querySelector('#df-338d4439-605e-4340-acc7-142bde6a4562');\n",
              "        const dataTable =\n",
              "          await google.colab.kernel.invokeFunction('convertToInteractive',\n",
              "                                                    [key], {});\n",
              "        if (!dataTable) return;\n",
              "\n",
              "        const docLinkHtml = 'Like what you see? Visit the ' +\n",
              "          '<a target=\"_blank\" href=https://colab.research.google.com/notebooks/data_table.ipynb>data table notebook</a>'\n",
              "          + ' to learn more about interactive tables.';\n",
              "        element.innerHTML = '';\n",
              "        dataTable['output_type'] = 'display_data';\n",
              "        await google.colab.output.renderOutput(dataTable, element);\n",
              "        const docLink = document.createElement('div');\n",
              "        docLink.innerHTML = docLinkHtml;\n",
              "        element.appendChild(docLink);\n",
              "      }\n",
              "    </script>\n",
              "  </div>\n",
              "\n",
              "\n",
              "<div id=\"df-3cb7d7d6-479d-4859-8048-a0290b03623f\">\n",
              "  <button class=\"colab-df-quickchart\" onclick=\"quickchart('df-3cb7d7d6-479d-4859-8048-a0290b03623f')\"\n",
              "            title=\"Suggest charts.\"\n",
              "            style=\"display:none;\">\n",
              "\n",
              "<svg xmlns=\"http://www.w3.org/2000/svg\" height=\"24px\"viewBox=\"0 0 24 24\"\n",
              "     width=\"24px\">\n",
              "    <g>\n",
              "        <path d=\"M19 3H5c-1.1 0-2 .9-2 2v14c0 1.1.9 2 2 2h14c1.1 0 2-.9 2-2V5c0-1.1-.9-2-2-2zM9 17H7v-7h2v7zm4 0h-2V7h2v10zm4 0h-2v-4h2v4z\"/>\n",
              "    </g>\n",
              "</svg>\n",
              "  </button>\n",
              "\n",
              "<style>\n",
              "  .colab-df-quickchart {\n",
              "      --bg-color: #E8F0FE;\n",
              "      --fill-color: #1967D2;\n",
              "      --hover-bg-color: #E2EBFA;\n",
              "      --hover-fill-color: #174EA6;\n",
              "      --disabled-fill-color: #AAA;\n",
              "      --disabled-bg-color: #DDD;\n",
              "  }\n",
              "\n",
              "  [theme=dark] .colab-df-quickchart {\n",
              "      --bg-color: #3B4455;\n",
              "      --fill-color: #D2E3FC;\n",
              "      --hover-bg-color: #434B5C;\n",
              "      --hover-fill-color: #FFFFFF;\n",
              "      --disabled-bg-color: #3B4455;\n",
              "      --disabled-fill-color: #666;\n",
              "  }\n",
              "\n",
              "  .colab-df-quickchart {\n",
              "    background-color: var(--bg-color);\n",
              "    border: none;\n",
              "    border-radius: 50%;\n",
              "    cursor: pointer;\n",
              "    display: none;\n",
              "    fill: var(--fill-color);\n",
              "    height: 32px;\n",
              "    padding: 0;\n",
              "    width: 32px;\n",
              "  }\n",
              "\n",
              "  .colab-df-quickchart:hover {\n",
              "    background-color: var(--hover-bg-color);\n",
              "    box-shadow: 0 1px 2px rgba(60, 64, 67, 0.3), 0 1px 3px 1px rgba(60, 64, 67, 0.15);\n",
              "    fill: var(--button-hover-fill-color);\n",
              "  }\n",
              "\n",
              "  .colab-df-quickchart-complete:disabled,\n",
              "  .colab-df-quickchart-complete:disabled:hover {\n",
              "    background-color: var(--disabled-bg-color);\n",
              "    fill: var(--disabled-fill-color);\n",
              "    box-shadow: none;\n",
              "  }\n",
              "\n",
              "  .colab-df-spinner {\n",
              "    border: 2px solid var(--fill-color);\n",
              "    border-color: transparent;\n",
              "    border-bottom-color: var(--fill-color);\n",
              "    animation:\n",
              "      spin 1s steps(1) infinite;\n",
              "  }\n",
              "\n",
              "  @keyframes spin {\n",
              "    0% {\n",
              "      border-color: transparent;\n",
              "      border-bottom-color: var(--fill-color);\n",
              "      border-left-color: var(--fill-color);\n",
              "    }\n",
              "    20% {\n",
              "      border-color: transparent;\n",
              "      border-left-color: var(--fill-color);\n",
              "      border-top-color: var(--fill-color);\n",
              "    }\n",
              "    30% {\n",
              "      border-color: transparent;\n",
              "      border-left-color: var(--fill-color);\n",
              "      border-top-color: var(--fill-color);\n",
              "      border-right-color: var(--fill-color);\n",
              "    }\n",
              "    40% {\n",
              "      border-color: transparent;\n",
              "      border-right-color: var(--fill-color);\n",
              "      border-top-color: var(--fill-color);\n",
              "    }\n",
              "    60% {\n",
              "      border-color: transparent;\n",
              "      border-right-color: var(--fill-color);\n",
              "    }\n",
              "    80% {\n",
              "      border-color: transparent;\n",
              "      border-right-color: var(--fill-color);\n",
              "      border-bottom-color: var(--fill-color);\n",
              "    }\n",
              "    90% {\n",
              "      border-color: transparent;\n",
              "      border-bottom-color: var(--fill-color);\n",
              "    }\n",
              "  }\n",
              "</style>\n",
              "\n",
              "  <script>\n",
              "    async function quickchart(key) {\n",
              "      const quickchartButtonEl =\n",
              "        document.querySelector('#' + key + ' button');\n",
              "      quickchartButtonEl.disabled = true;  // To prevent multiple clicks.\n",
              "      quickchartButtonEl.classList.add('colab-df-spinner');\n",
              "      try {\n",
              "        const charts = await google.colab.kernel.invokeFunction(\n",
              "            'suggestCharts', [key], {});\n",
              "      } catch (error) {\n",
              "        console.error('Error during call to suggestCharts:', error);\n",
              "      }\n",
              "      quickchartButtonEl.classList.remove('colab-df-spinner');\n",
              "      quickchartButtonEl.classList.add('colab-df-quickchart-complete');\n",
              "    }\n",
              "    (() => {\n",
              "      let quickchartButtonEl =\n",
              "        document.querySelector('#df-3cb7d7d6-479d-4859-8048-a0290b03623f button');\n",
              "      quickchartButtonEl.style.display =\n",
              "        google.colab.kernel.accessAllowed ? 'block' : 'none';\n",
              "    })();\n",
              "  </script>\n",
              "</div>\n",
              "    </div>\n",
              "  </div>\n"
            ]
          },
          "metadata": {},
          "execution_count": 47
        }
      ]
    },
    {
      "cell_type": "markdown",
      "source": [
        "Dataframe Funciones 1.- Sumar un campo"
      ],
      "metadata": {
        "id": "Mdy2aK3rAQR_"
      }
    },
    {
      "cell_type": "code",
      "source": [
        "dataframe['CANTIDAD'].sum()"
      ],
      "metadata": {
        "colab": {
          "base_uri": "https://localhost:8080/"
        },
        "id": "JF__IoVxAHWX",
        "outputId": "f802b71e-71dd-4cf5-d056-12521de2a4b4"
      },
      "execution_count": 48,
      "outputs": [
        {
          "output_type": "execute_result",
          "data": {
            "text/plain": [
              "40"
            ]
          },
          "metadata": {},
          "execution_count": 48
        }
      ]
    },
    {
      "cell_type": "code",
      "source": [
        "dataframe['CANTIDAD'].count()"
      ],
      "metadata": {
        "colab": {
          "base_uri": "https://localhost:8080/"
        },
        "id": "uW4VdAwcAjGF",
        "outputId": "25f8eab3-ce66-460e-d1ef-3050f331bcd2"
      },
      "execution_count": 36,
      "outputs": [
        {
          "output_type": "execute_result",
          "data": {
            "text/plain": [
              "11"
            ]
          },
          "metadata": {},
          "execution_count": 36
        }
      ]
    },
    {
      "cell_type": "code",
      "source": [
        "dataframe['CANTIDAD'].cumsum()"
      ],
      "metadata": {
        "colab": {
          "base_uri": "https://localhost:8080/"
        },
        "id": "WUaMpknWAvcB",
        "outputId": "faa76f6c-d079-493b-ea23-8341b627d908"
      },
      "execution_count": 37,
      "outputs": [
        {
          "output_type": "execute_result",
          "data": {
            "text/plain": [
              "0      3\n",
              "1      4\n",
              "2      5\n",
              "3      6\n",
              "4      7\n",
              "5      8\n",
              "6      9\n",
              "7     10\n",
              "8     20\n",
              "9     36\n",
              "10    40\n",
              "Name: CANTIDAD, dtype: int64"
            ]
          },
          "metadata": {},
          "execution_count": 37
        }
      ]
    },
    {
      "cell_type": "code",
      "source": [
        "dataframe['CANTIDAD'].min()"
      ],
      "metadata": {
        "colab": {
          "base_uri": "https://localhost:8080/"
        },
        "id": "5h8G3gdfAyOA",
        "outputId": "8943bb46-c5e5-4900-a9b5-82fd2dc55691"
      },
      "execution_count": 38,
      "outputs": [
        {
          "output_type": "execute_result",
          "data": {
            "text/plain": [
              "1"
            ]
          },
          "metadata": {},
          "execution_count": 38
        }
      ]
    },
    {
      "cell_type": "code",
      "source": [
        "dataframe['CANTIDAD'].max()"
      ],
      "metadata": {
        "colab": {
          "base_uri": "https://localhost:8080/"
        },
        "id": "xj3fIDPFA1BB",
        "outputId": "c3fce8aa-4aba-420a-9fd7-8434a8b8e211"
      },
      "execution_count": 39,
      "outputs": [
        {
          "output_type": "execute_result",
          "data": {
            "text/plain": [
              "16"
            ]
          },
          "metadata": {},
          "execution_count": 39
        }
      ]
    },
    {
      "cell_type": "code",
      "source": [
        "dataframe['CANTIDAD'].mean()"
      ],
      "metadata": {
        "colab": {
          "base_uri": "https://localhost:8080/"
        },
        "id": "QfAR3hedA3Aa",
        "outputId": "6c4a7601-a4af-4306-d2f2-150f2a28101f"
      },
      "execution_count": 49,
      "outputs": [
        {
          "output_type": "execute_result",
          "data": {
            "text/plain": [
              "3.6363636363636362"
            ]
          },
          "metadata": {},
          "execution_count": 49
        }
      ]
    },
    {
      "cell_type": "code",
      "source": [
        "dataframe['CANTIDAD'].var()"
      ],
      "metadata": {
        "colab": {
          "base_uri": "https://localhost:8080/"
        },
        "id": "_TIjZU--A4yq",
        "outputId": "8eaaa952-8751-4e06-aaa7-b0e6b9ca536d"
      },
      "execution_count": 41,
      "outputs": [
        {
          "output_type": "execute_result",
          "data": {
            "text/plain": [
              "24.254545454545454"
            ]
          },
          "metadata": {},
          "execution_count": 41
        }
      ]
    },
    {
      "cell_type": "code",
      "source": [
        "dataframe['CANTIDAD'].std()"
      ],
      "metadata": {
        "colab": {
          "base_uri": "https://localhost:8080/"
        },
        "id": "ySeXrbK_A6OC",
        "outputId": "f22b746e-6ad2-472b-e9ff-cb3e7e924ff5"
      },
      "execution_count": 42,
      "outputs": [
        {
          "output_type": "execute_result",
          "data": {
            "text/plain": [
              "4.924890400257193"
            ]
          },
          "metadata": {},
          "execution_count": 42
        }
      ]
    },
    {
      "cell_type": "code",
      "source": [
        "print(dataframe[['CANTIDAD', 'NUMERO DE PRODUCTO']].cov())"
      ],
      "metadata": {
        "colab": {
          "base_uri": "https://localhost:8080/"
        },
        "id": "jXWTWZ9oA7QC",
        "outputId": "ed5767b9-ed02-466f-a447-b8ded0ec1176"
      },
      "execution_count": 52,
      "outputs": [
        {
          "output_type": "stream",
          "name": "stdout",
          "text": [
            "                      CANTIDAD  NUMERO DE PRODUCTO\n",
            "CANTIDAD             24.254545          542.145455\n",
            "NUMERO DE PRODUCTO  542.145455        40922.454545\n"
          ]
        }
      ]
    },
    {
      "cell_type": "code",
      "source": [
        "print(dataframe[['CANTIDAD', 'NUMERO DE PRODUCTO']].corr())"
      ],
      "metadata": {
        "colab": {
          "base_uri": "https://localhost:8080/"
        },
        "id": "Sg2fYwKhCOCe",
        "outputId": "0eadf39f-4ebb-4048-fe92-f574d239a9a8"
      },
      "execution_count": 56,
      "outputs": [
        {
          "output_type": "stream",
          "name": "stdout",
          "text": [
            "                    CANTIDAD  NUMERO DE PRODUCTO\n",
            "CANTIDAD            1.000000            0.544175\n",
            "NUMERO DE PRODUCTO  0.544175            1.000000\n"
          ]
        }
      ]
    },
    {
      "cell_type": "code",
      "source": [
        "dataframe.describe()"
      ],
      "metadata": {
        "colab": {
          "base_uri": "https://localhost:8080/",
          "height": 300
        },
        "id": "xsCxYuUtEthL",
        "outputId": "a4f0686d-0182-4706-ddbb-485dee45fdc0"
      },
      "execution_count": 57,
      "outputs": [
        {
          "output_type": "execute_result",
          "data": {
            "text/plain": [
              "       Unnamed: 0   CANTIDAD  PRECIO UNITARIO      IMPORTE  DESCUENTO  \\\n",
              "count   11.000000  11.000000        11.000000    11.000000  11.000000   \n",
              "mean     5.000000   3.636364       560.940000   583.654545   0.124545   \n",
              "std      3.316625   4.924890      1423.404019  1414.383603   0.172010   \n",
              "min      0.000000   1.000000         5.000000    20.000000   0.000000   \n",
              "25%      2.500000   1.000000         9.320000    56.900000   0.000000   \n",
              "50%      5.000000   1.000000        73.900000    79.900000   0.000000   \n",
              "75%      7.500000   3.500000       199.900000   229.950000   0.220000   \n",
              "max     10.000000  16.000000      4799.900000  4799.900000   0.500000   \n",
              "\n",
              "       TOTAL CON DECUENTO  NUMERO DE PRODUCTO  \n",
              "count           11.000000           11.000000  \n",
              "mean           564.534273        24777.363636  \n",
              "std           1419.975834          202.292992  \n",
              "min             15.330000        24517.000000  \n",
              "25%             46.865000        24690.500000  \n",
              "50%             69.513000        24734.000000  \n",
              "75%            149.975000        24831.500000  \n",
              "max           4799.900000        25216.000000  "
            ],
            "text/html": [
              "\n",
              "  <div id=\"df-7de86c4f-5a91-42db-829e-0e01580c1d6a\" class=\"colab-df-container\">\n",
              "    <div>\n",
              "<style scoped>\n",
              "    .dataframe tbody tr th:only-of-type {\n",
              "        vertical-align: middle;\n",
              "    }\n",
              "\n",
              "    .dataframe tbody tr th {\n",
              "        vertical-align: top;\n",
              "    }\n",
              "\n",
              "    .dataframe thead th {\n",
              "        text-align: right;\n",
              "    }\n",
              "</style>\n",
              "<table border=\"1\" class=\"dataframe\">\n",
              "  <thead>\n",
              "    <tr style=\"text-align: right;\">\n",
              "      <th></th>\n",
              "      <th>Unnamed: 0</th>\n",
              "      <th>CANTIDAD</th>\n",
              "      <th>PRECIO UNITARIO</th>\n",
              "      <th>IMPORTE</th>\n",
              "      <th>DESCUENTO</th>\n",
              "      <th>TOTAL CON DECUENTO</th>\n",
              "      <th>NUMERO DE PRODUCTO</th>\n",
              "    </tr>\n",
              "  </thead>\n",
              "  <tbody>\n",
              "    <tr>\n",
              "      <th>count</th>\n",
              "      <td>11.000000</td>\n",
              "      <td>11.000000</td>\n",
              "      <td>11.000000</td>\n",
              "      <td>11.000000</td>\n",
              "      <td>11.000000</td>\n",
              "      <td>11.000000</td>\n",
              "      <td>11.000000</td>\n",
              "    </tr>\n",
              "    <tr>\n",
              "      <th>mean</th>\n",
              "      <td>5.000000</td>\n",
              "      <td>3.636364</td>\n",
              "      <td>560.940000</td>\n",
              "      <td>583.654545</td>\n",
              "      <td>0.124545</td>\n",
              "      <td>564.534273</td>\n",
              "      <td>24777.363636</td>\n",
              "    </tr>\n",
              "    <tr>\n",
              "      <th>std</th>\n",
              "      <td>3.316625</td>\n",
              "      <td>4.924890</td>\n",
              "      <td>1423.404019</td>\n",
              "      <td>1414.383603</td>\n",
              "      <td>0.172010</td>\n",
              "      <td>1419.975834</td>\n",
              "      <td>202.292992</td>\n",
              "    </tr>\n",
              "    <tr>\n",
              "      <th>min</th>\n",
              "      <td>0.000000</td>\n",
              "      <td>1.000000</td>\n",
              "      <td>5.000000</td>\n",
              "      <td>20.000000</td>\n",
              "      <td>0.000000</td>\n",
              "      <td>15.330000</td>\n",
              "      <td>24517.000000</td>\n",
              "    </tr>\n",
              "    <tr>\n",
              "      <th>25%</th>\n",
              "      <td>2.500000</td>\n",
              "      <td>1.000000</td>\n",
              "      <td>9.320000</td>\n",
              "      <td>56.900000</td>\n",
              "      <td>0.000000</td>\n",
              "      <td>46.865000</td>\n",
              "      <td>24690.500000</td>\n",
              "    </tr>\n",
              "    <tr>\n",
              "      <th>50%</th>\n",
              "      <td>5.000000</td>\n",
              "      <td>1.000000</td>\n",
              "      <td>73.900000</td>\n",
              "      <td>79.900000</td>\n",
              "      <td>0.000000</td>\n",
              "      <td>69.513000</td>\n",
              "      <td>24734.000000</td>\n",
              "    </tr>\n",
              "    <tr>\n",
              "      <th>75%</th>\n",
              "      <td>7.500000</td>\n",
              "      <td>3.500000</td>\n",
              "      <td>199.900000</td>\n",
              "      <td>229.950000</td>\n",
              "      <td>0.220000</td>\n",
              "      <td>149.975000</td>\n",
              "      <td>24831.500000</td>\n",
              "    </tr>\n",
              "    <tr>\n",
              "      <th>max</th>\n",
              "      <td>10.000000</td>\n",
              "      <td>16.000000</td>\n",
              "      <td>4799.900000</td>\n",
              "      <td>4799.900000</td>\n",
              "      <td>0.500000</td>\n",
              "      <td>4799.900000</td>\n",
              "      <td>25216.000000</td>\n",
              "    </tr>\n",
              "  </tbody>\n",
              "</table>\n",
              "</div>\n",
              "    <div class=\"colab-df-buttons\">\n",
              "\n",
              "  <div class=\"colab-df-container\">\n",
              "    <button class=\"colab-df-convert\" onclick=\"convertToInteractive('df-7de86c4f-5a91-42db-829e-0e01580c1d6a')\"\n",
              "            title=\"Convert this dataframe to an interactive table.\"\n",
              "            style=\"display:none;\">\n",
              "\n",
              "  <svg xmlns=\"http://www.w3.org/2000/svg\" height=\"24px\" viewBox=\"0 -960 960 960\">\n",
              "    <path d=\"M120-120v-720h720v720H120Zm60-500h600v-160H180v160Zm220 220h160v-160H400v160Zm0 220h160v-160H400v160ZM180-400h160v-160H180v160Zm440 0h160v-160H620v160ZM180-180h160v-160H180v160Zm440 0h160v-160H620v160Z\"/>\n",
              "  </svg>\n",
              "    </button>\n",
              "\n",
              "  <style>\n",
              "    .colab-df-container {\n",
              "      display:flex;\n",
              "      gap: 12px;\n",
              "    }\n",
              "\n",
              "    .colab-df-convert {\n",
              "      background-color: #E8F0FE;\n",
              "      border: none;\n",
              "      border-radius: 50%;\n",
              "      cursor: pointer;\n",
              "      display: none;\n",
              "      fill: #1967D2;\n",
              "      height: 32px;\n",
              "      padding: 0 0 0 0;\n",
              "      width: 32px;\n",
              "    }\n",
              "\n",
              "    .colab-df-convert:hover {\n",
              "      background-color: #E2EBFA;\n",
              "      box-shadow: 0px 1px 2px rgba(60, 64, 67, 0.3), 0px 1px 3px 1px rgba(60, 64, 67, 0.15);\n",
              "      fill: #174EA6;\n",
              "    }\n",
              "\n",
              "    .colab-df-buttons div {\n",
              "      margin-bottom: 4px;\n",
              "    }\n",
              "\n",
              "    [theme=dark] .colab-df-convert {\n",
              "      background-color: #3B4455;\n",
              "      fill: #D2E3FC;\n",
              "    }\n",
              "\n",
              "    [theme=dark] .colab-df-convert:hover {\n",
              "      background-color: #434B5C;\n",
              "      box-shadow: 0px 1px 3px 1px rgba(0, 0, 0, 0.15);\n",
              "      filter: drop-shadow(0px 1px 2px rgba(0, 0, 0, 0.3));\n",
              "      fill: #FFFFFF;\n",
              "    }\n",
              "  </style>\n",
              "\n",
              "    <script>\n",
              "      const buttonEl =\n",
              "        document.querySelector('#df-7de86c4f-5a91-42db-829e-0e01580c1d6a button.colab-df-convert');\n",
              "      buttonEl.style.display =\n",
              "        google.colab.kernel.accessAllowed ? 'block' : 'none';\n",
              "\n",
              "      async function convertToInteractive(key) {\n",
              "        const element = document.querySelector('#df-7de86c4f-5a91-42db-829e-0e01580c1d6a');\n",
              "        const dataTable =\n",
              "          await google.colab.kernel.invokeFunction('convertToInteractive',\n",
              "                                                    [key], {});\n",
              "        if (!dataTable) return;\n",
              "\n",
              "        const docLinkHtml = 'Like what you see? Visit the ' +\n",
              "          '<a target=\"_blank\" href=https://colab.research.google.com/notebooks/data_table.ipynb>data table notebook</a>'\n",
              "          + ' to learn more about interactive tables.';\n",
              "        element.innerHTML = '';\n",
              "        dataTable['output_type'] = 'display_data';\n",
              "        await google.colab.output.renderOutput(dataTable, element);\n",
              "        const docLink = document.createElement('div');\n",
              "        docLink.innerHTML = docLinkHtml;\n",
              "        element.appendChild(docLink);\n",
              "      }\n",
              "    </script>\n",
              "  </div>\n",
              "\n",
              "\n",
              "<div id=\"df-de32f856-2290-485e-bdf0-36d8e62d34c0\">\n",
              "  <button class=\"colab-df-quickchart\" onclick=\"quickchart('df-de32f856-2290-485e-bdf0-36d8e62d34c0')\"\n",
              "            title=\"Suggest charts.\"\n",
              "            style=\"display:none;\">\n",
              "\n",
              "<svg xmlns=\"http://www.w3.org/2000/svg\" height=\"24px\"viewBox=\"0 0 24 24\"\n",
              "     width=\"24px\">\n",
              "    <g>\n",
              "        <path d=\"M19 3H5c-1.1 0-2 .9-2 2v14c0 1.1.9 2 2 2h14c1.1 0 2-.9 2-2V5c0-1.1-.9-2-2-2zM9 17H7v-7h2v7zm4 0h-2V7h2v10zm4 0h-2v-4h2v4z\"/>\n",
              "    </g>\n",
              "</svg>\n",
              "  </button>\n",
              "\n",
              "<style>\n",
              "  .colab-df-quickchart {\n",
              "      --bg-color: #E8F0FE;\n",
              "      --fill-color: #1967D2;\n",
              "      --hover-bg-color: #E2EBFA;\n",
              "      --hover-fill-color: #174EA6;\n",
              "      --disabled-fill-color: #AAA;\n",
              "      --disabled-bg-color: #DDD;\n",
              "  }\n",
              "\n",
              "  [theme=dark] .colab-df-quickchart {\n",
              "      --bg-color: #3B4455;\n",
              "      --fill-color: #D2E3FC;\n",
              "      --hover-bg-color: #434B5C;\n",
              "      --hover-fill-color: #FFFFFF;\n",
              "      --disabled-bg-color: #3B4455;\n",
              "      --disabled-fill-color: #666;\n",
              "  }\n",
              "\n",
              "  .colab-df-quickchart {\n",
              "    background-color: var(--bg-color);\n",
              "    border: none;\n",
              "    border-radius: 50%;\n",
              "    cursor: pointer;\n",
              "    display: none;\n",
              "    fill: var(--fill-color);\n",
              "    height: 32px;\n",
              "    padding: 0;\n",
              "    width: 32px;\n",
              "  }\n",
              "\n",
              "  .colab-df-quickchart:hover {\n",
              "    background-color: var(--hover-bg-color);\n",
              "    box-shadow: 0 1px 2px rgba(60, 64, 67, 0.3), 0 1px 3px 1px rgba(60, 64, 67, 0.15);\n",
              "    fill: var(--button-hover-fill-color);\n",
              "  }\n",
              "\n",
              "  .colab-df-quickchart-complete:disabled,\n",
              "  .colab-df-quickchart-complete:disabled:hover {\n",
              "    background-color: var(--disabled-bg-color);\n",
              "    fill: var(--disabled-fill-color);\n",
              "    box-shadow: none;\n",
              "  }\n",
              "\n",
              "  .colab-df-spinner {\n",
              "    border: 2px solid var(--fill-color);\n",
              "    border-color: transparent;\n",
              "    border-bottom-color: var(--fill-color);\n",
              "    animation:\n",
              "      spin 1s steps(1) infinite;\n",
              "  }\n",
              "\n",
              "  @keyframes spin {\n",
              "    0% {\n",
              "      border-color: transparent;\n",
              "      border-bottom-color: var(--fill-color);\n",
              "      border-left-color: var(--fill-color);\n",
              "    }\n",
              "    20% {\n",
              "      border-color: transparent;\n",
              "      border-left-color: var(--fill-color);\n",
              "      border-top-color: var(--fill-color);\n",
              "    }\n",
              "    30% {\n",
              "      border-color: transparent;\n",
              "      border-left-color: var(--fill-color);\n",
              "      border-top-color: var(--fill-color);\n",
              "      border-right-color: var(--fill-color);\n",
              "    }\n",
              "    40% {\n",
              "      border-color: transparent;\n",
              "      border-right-color: var(--fill-color);\n",
              "      border-top-color: var(--fill-color);\n",
              "    }\n",
              "    60% {\n",
              "      border-color: transparent;\n",
              "      border-right-color: var(--fill-color);\n",
              "    }\n",
              "    80% {\n",
              "      border-color: transparent;\n",
              "      border-right-color: var(--fill-color);\n",
              "      border-bottom-color: var(--fill-color);\n",
              "    }\n",
              "    90% {\n",
              "      border-color: transparent;\n",
              "      border-bottom-color: var(--fill-color);\n",
              "    }\n",
              "  }\n",
              "</style>\n",
              "\n",
              "  <script>\n",
              "    async function quickchart(key) {\n",
              "      const quickchartButtonEl =\n",
              "        document.querySelector('#' + key + ' button');\n",
              "      quickchartButtonEl.disabled = true;  // To prevent multiple clicks.\n",
              "      quickchartButtonEl.classList.add('colab-df-spinner');\n",
              "      try {\n",
              "        const charts = await google.colab.kernel.invokeFunction(\n",
              "            'suggestCharts', [key], {});\n",
              "      } catch (error) {\n",
              "        console.error('Error during call to suggestCharts:', error);\n",
              "      }\n",
              "      quickchartButtonEl.classList.remove('colab-df-spinner');\n",
              "      quickchartButtonEl.classList.add('colab-df-quickchart-complete');\n",
              "    }\n",
              "    (() => {\n",
              "      let quickchartButtonEl =\n",
              "        document.querySelector('#df-de32f856-2290-485e-bdf0-36d8e62d34c0 button');\n",
              "      quickchartButtonEl.style.display =\n",
              "        google.colab.kernel.accessAllowed ? 'block' : 'none';\n",
              "    })();\n",
              "  </script>\n",
              "</div>\n",
              "    </div>\n",
              "  </div>\n"
            ]
          },
          "metadata": {},
          "execution_count": 57
        }
      ]
    },
    {
      "cell_type": "code",
      "source": [
        "dataframe.describe(include = float)"
      ],
      "metadata": {
        "colab": {
          "base_uri": "https://localhost:8080/",
          "height": 300
        },
        "id": "85CX9M-YE-Dh",
        "outputId": "e2763d12-5c32-471e-ecaf-c08ceef45063"
      },
      "execution_count": 68,
      "outputs": [
        {
          "output_type": "execute_result",
          "data": {
            "text/plain": [
              "       PRECIO UNITARIO      IMPORTE  DESCUENTO  TOTAL CON DECUENTO\n",
              "count        11.000000    11.000000  11.000000           11.000000\n",
              "mean        560.940000   583.654545   0.124545          564.534273\n",
              "std        1423.404019  1414.383603   0.172010         1419.975834\n",
              "min           5.000000    20.000000   0.000000           15.330000\n",
              "25%           9.320000    56.900000   0.000000           46.865000\n",
              "50%          73.900000    79.900000   0.000000           69.513000\n",
              "75%         199.900000   229.950000   0.220000          149.975000\n",
              "max        4799.900000  4799.900000   0.500000         4799.900000"
            ],
            "text/html": [
              "\n",
              "  <div id=\"df-d899cf72-c07f-4c26-a7c3-1f376bf88bcb\" class=\"colab-df-container\">\n",
              "    <div>\n",
              "<style scoped>\n",
              "    .dataframe tbody tr th:only-of-type {\n",
              "        vertical-align: middle;\n",
              "    }\n",
              "\n",
              "    .dataframe tbody tr th {\n",
              "        vertical-align: top;\n",
              "    }\n",
              "\n",
              "    .dataframe thead th {\n",
              "        text-align: right;\n",
              "    }\n",
              "</style>\n",
              "<table border=\"1\" class=\"dataframe\">\n",
              "  <thead>\n",
              "    <tr style=\"text-align: right;\">\n",
              "      <th></th>\n",
              "      <th>PRECIO UNITARIO</th>\n",
              "      <th>IMPORTE</th>\n",
              "      <th>DESCUENTO</th>\n",
              "      <th>TOTAL CON DECUENTO</th>\n",
              "    </tr>\n",
              "  </thead>\n",
              "  <tbody>\n",
              "    <tr>\n",
              "      <th>count</th>\n",
              "      <td>11.000000</td>\n",
              "      <td>11.000000</td>\n",
              "      <td>11.000000</td>\n",
              "      <td>11.000000</td>\n",
              "    </tr>\n",
              "    <tr>\n",
              "      <th>mean</th>\n",
              "      <td>560.940000</td>\n",
              "      <td>583.654545</td>\n",
              "      <td>0.124545</td>\n",
              "      <td>564.534273</td>\n",
              "    </tr>\n",
              "    <tr>\n",
              "      <th>std</th>\n",
              "      <td>1423.404019</td>\n",
              "      <td>1414.383603</td>\n",
              "      <td>0.172010</td>\n",
              "      <td>1419.975834</td>\n",
              "    </tr>\n",
              "    <tr>\n",
              "      <th>min</th>\n",
              "      <td>5.000000</td>\n",
              "      <td>20.000000</td>\n",
              "      <td>0.000000</td>\n",
              "      <td>15.330000</td>\n",
              "    </tr>\n",
              "    <tr>\n",
              "      <th>25%</th>\n",
              "      <td>9.320000</td>\n",
              "      <td>56.900000</td>\n",
              "      <td>0.000000</td>\n",
              "      <td>46.865000</td>\n",
              "    </tr>\n",
              "    <tr>\n",
              "      <th>50%</th>\n",
              "      <td>73.900000</td>\n",
              "      <td>79.900000</td>\n",
              "      <td>0.000000</td>\n",
              "      <td>69.513000</td>\n",
              "    </tr>\n",
              "    <tr>\n",
              "      <th>75%</th>\n",
              "      <td>199.900000</td>\n",
              "      <td>229.950000</td>\n",
              "      <td>0.220000</td>\n",
              "      <td>149.975000</td>\n",
              "    </tr>\n",
              "    <tr>\n",
              "      <th>max</th>\n",
              "      <td>4799.900000</td>\n",
              "      <td>4799.900000</td>\n",
              "      <td>0.500000</td>\n",
              "      <td>4799.900000</td>\n",
              "    </tr>\n",
              "  </tbody>\n",
              "</table>\n",
              "</div>\n",
              "    <div class=\"colab-df-buttons\">\n",
              "\n",
              "  <div class=\"colab-df-container\">\n",
              "    <button class=\"colab-df-convert\" onclick=\"convertToInteractive('df-d899cf72-c07f-4c26-a7c3-1f376bf88bcb')\"\n",
              "            title=\"Convert this dataframe to an interactive table.\"\n",
              "            style=\"display:none;\">\n",
              "\n",
              "  <svg xmlns=\"http://www.w3.org/2000/svg\" height=\"24px\" viewBox=\"0 -960 960 960\">\n",
              "    <path d=\"M120-120v-720h720v720H120Zm60-500h600v-160H180v160Zm220 220h160v-160H400v160Zm0 220h160v-160H400v160ZM180-400h160v-160H180v160Zm440 0h160v-160H620v160ZM180-180h160v-160H180v160Zm440 0h160v-160H620v160Z\"/>\n",
              "  </svg>\n",
              "    </button>\n",
              "\n",
              "  <style>\n",
              "    .colab-df-container {\n",
              "      display:flex;\n",
              "      gap: 12px;\n",
              "    }\n",
              "\n",
              "    .colab-df-convert {\n",
              "      background-color: #E8F0FE;\n",
              "      border: none;\n",
              "      border-radius: 50%;\n",
              "      cursor: pointer;\n",
              "      display: none;\n",
              "      fill: #1967D2;\n",
              "      height: 32px;\n",
              "      padding: 0 0 0 0;\n",
              "      width: 32px;\n",
              "    }\n",
              "\n",
              "    .colab-df-convert:hover {\n",
              "      background-color: #E2EBFA;\n",
              "      box-shadow: 0px 1px 2px rgba(60, 64, 67, 0.3), 0px 1px 3px 1px rgba(60, 64, 67, 0.15);\n",
              "      fill: #174EA6;\n",
              "    }\n",
              "\n",
              "    .colab-df-buttons div {\n",
              "      margin-bottom: 4px;\n",
              "    }\n",
              "\n",
              "    [theme=dark] .colab-df-convert {\n",
              "      background-color: #3B4455;\n",
              "      fill: #D2E3FC;\n",
              "    }\n",
              "\n",
              "    [theme=dark] .colab-df-convert:hover {\n",
              "      background-color: #434B5C;\n",
              "      box-shadow: 0px 1px 3px 1px rgba(0, 0, 0, 0.15);\n",
              "      filter: drop-shadow(0px 1px 2px rgba(0, 0, 0, 0.3));\n",
              "      fill: #FFFFFF;\n",
              "    }\n",
              "  </style>\n",
              "\n",
              "    <script>\n",
              "      const buttonEl =\n",
              "        document.querySelector('#df-d899cf72-c07f-4c26-a7c3-1f376bf88bcb button.colab-df-convert');\n",
              "      buttonEl.style.display =\n",
              "        google.colab.kernel.accessAllowed ? 'block' : 'none';\n",
              "\n",
              "      async function convertToInteractive(key) {\n",
              "        const element = document.querySelector('#df-d899cf72-c07f-4c26-a7c3-1f376bf88bcb');\n",
              "        const dataTable =\n",
              "          await google.colab.kernel.invokeFunction('convertToInteractive',\n",
              "                                                    [key], {});\n",
              "        if (!dataTable) return;\n",
              "\n",
              "        const docLinkHtml = 'Like what you see? Visit the ' +\n",
              "          '<a target=\"_blank\" href=https://colab.research.google.com/notebooks/data_table.ipynb>data table notebook</a>'\n",
              "          + ' to learn more about interactive tables.';\n",
              "        element.innerHTML = '';\n",
              "        dataTable['output_type'] = 'display_data';\n",
              "        await google.colab.output.renderOutput(dataTable, element);\n",
              "        const docLink = document.createElement('div');\n",
              "        docLink.innerHTML = docLinkHtml;\n",
              "        element.appendChild(docLink);\n",
              "      }\n",
              "    </script>\n",
              "  </div>\n",
              "\n",
              "\n",
              "<div id=\"df-495639be-d88f-43a1-ab1d-e1302aac1f7b\">\n",
              "  <button class=\"colab-df-quickchart\" onclick=\"quickchart('df-495639be-d88f-43a1-ab1d-e1302aac1f7b')\"\n",
              "            title=\"Suggest charts.\"\n",
              "            style=\"display:none;\">\n",
              "\n",
              "<svg xmlns=\"http://www.w3.org/2000/svg\" height=\"24px\"viewBox=\"0 0 24 24\"\n",
              "     width=\"24px\">\n",
              "    <g>\n",
              "        <path d=\"M19 3H5c-1.1 0-2 .9-2 2v14c0 1.1.9 2 2 2h14c1.1 0 2-.9 2-2V5c0-1.1-.9-2-2-2zM9 17H7v-7h2v7zm4 0h-2V7h2v10zm4 0h-2v-4h2v4z\"/>\n",
              "    </g>\n",
              "</svg>\n",
              "  </button>\n",
              "\n",
              "<style>\n",
              "  .colab-df-quickchart {\n",
              "      --bg-color: #E8F0FE;\n",
              "      --fill-color: #1967D2;\n",
              "      --hover-bg-color: #E2EBFA;\n",
              "      --hover-fill-color: #174EA6;\n",
              "      --disabled-fill-color: #AAA;\n",
              "      --disabled-bg-color: #DDD;\n",
              "  }\n",
              "\n",
              "  [theme=dark] .colab-df-quickchart {\n",
              "      --bg-color: #3B4455;\n",
              "      --fill-color: #D2E3FC;\n",
              "      --hover-bg-color: #434B5C;\n",
              "      --hover-fill-color: #FFFFFF;\n",
              "      --disabled-bg-color: #3B4455;\n",
              "      --disabled-fill-color: #666;\n",
              "  }\n",
              "\n",
              "  .colab-df-quickchart {\n",
              "    background-color: var(--bg-color);\n",
              "    border: none;\n",
              "    border-radius: 50%;\n",
              "    cursor: pointer;\n",
              "    display: none;\n",
              "    fill: var(--fill-color);\n",
              "    height: 32px;\n",
              "    padding: 0;\n",
              "    width: 32px;\n",
              "  }\n",
              "\n",
              "  .colab-df-quickchart:hover {\n",
              "    background-color: var(--hover-bg-color);\n",
              "    box-shadow: 0 1px 2px rgba(60, 64, 67, 0.3), 0 1px 3px 1px rgba(60, 64, 67, 0.15);\n",
              "    fill: var(--button-hover-fill-color);\n",
              "  }\n",
              "\n",
              "  .colab-df-quickchart-complete:disabled,\n",
              "  .colab-df-quickchart-complete:disabled:hover {\n",
              "    background-color: var(--disabled-bg-color);\n",
              "    fill: var(--disabled-fill-color);\n",
              "    box-shadow: none;\n",
              "  }\n",
              "\n",
              "  .colab-df-spinner {\n",
              "    border: 2px solid var(--fill-color);\n",
              "    border-color: transparent;\n",
              "    border-bottom-color: var(--fill-color);\n",
              "    animation:\n",
              "      spin 1s steps(1) infinite;\n",
              "  }\n",
              "\n",
              "  @keyframes spin {\n",
              "    0% {\n",
              "      border-color: transparent;\n",
              "      border-bottom-color: var(--fill-color);\n",
              "      border-left-color: var(--fill-color);\n",
              "    }\n",
              "    20% {\n",
              "      border-color: transparent;\n",
              "      border-left-color: var(--fill-color);\n",
              "      border-top-color: var(--fill-color);\n",
              "    }\n",
              "    30% {\n",
              "      border-color: transparent;\n",
              "      border-left-color: var(--fill-color);\n",
              "      border-top-color: var(--fill-color);\n",
              "      border-right-color: var(--fill-color);\n",
              "    }\n",
              "    40% {\n",
              "      border-color: transparent;\n",
              "      border-right-color: var(--fill-color);\n",
              "      border-top-color: var(--fill-color);\n",
              "    }\n",
              "    60% {\n",
              "      border-color: transparent;\n",
              "      border-right-color: var(--fill-color);\n",
              "    }\n",
              "    80% {\n",
              "      border-color: transparent;\n",
              "      border-right-color: var(--fill-color);\n",
              "      border-bottom-color: var(--fill-color);\n",
              "    }\n",
              "    90% {\n",
              "      border-color: transparent;\n",
              "      border-bottom-color: var(--fill-color);\n",
              "    }\n",
              "  }\n",
              "</style>\n",
              "\n",
              "  <script>\n",
              "    async function quickchart(key) {\n",
              "      const quickchartButtonEl =\n",
              "        document.querySelector('#' + key + ' button');\n",
              "      quickchartButtonEl.disabled = true;  // To prevent multiple clicks.\n",
              "      quickchartButtonEl.classList.add('colab-df-spinner');\n",
              "      try {\n",
              "        const charts = await google.colab.kernel.invokeFunction(\n",
              "            'suggestCharts', [key], {});\n",
              "      } catch (error) {\n",
              "        console.error('Error during call to suggestCharts:', error);\n",
              "      }\n",
              "      quickchartButtonEl.classList.remove('colab-df-spinner');\n",
              "      quickchartButtonEl.classList.add('colab-df-quickchart-complete');\n",
              "    }\n",
              "    (() => {\n",
              "      let quickchartButtonEl =\n",
              "        document.querySelector('#df-495639be-d88f-43a1-ab1d-e1302aac1f7b button');\n",
              "      quickchartButtonEl.style.display =\n",
              "        google.colab.kernel.accessAllowed ? 'block' : 'none';\n",
              "    })();\n",
              "  </script>\n",
              "</div>\n",
              "    </div>\n",
              "  </div>\n"
            ]
          },
          "metadata": {},
          "execution_count": 68
        }
      ]
    },
    {
      "cell_type": "code",
      "source": [
        "dataframe.plot()"
      ],
      "metadata": {
        "colab": {
          "base_uri": "https://localhost:8080/",
          "height": 448
        },
        "id": "RH8gXMQSFB94",
        "outputId": "c5b499e0-76cd-4377-82a7-ffca11e6cfaa"
      },
      "execution_count": 69,
      "outputs": [
        {
          "output_type": "execute_result",
          "data": {
            "text/plain": [
              "<Axes: >"
            ]
          },
          "metadata": {},
          "execution_count": 69
        },
        {
          "output_type": "display_data",
          "data": {
            "text/plain": [
              "<Figure size 640x480 with 1 Axes>"
            ],
            "image/png": "[encoded data removed]"
          },
          "metadata": {}
        }
      ]
    },
    {
      "cell_type": "code",
      "source": [],
      "metadata": {
        "id": "B245475aFr0K"
      },
      "execution_count": null,
      "outputs": []
    }
  ]
}